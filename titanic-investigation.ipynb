{
 "cells": [
  {
   "cell_type": "markdown",
   "metadata": {},
   "source": [
    "#  Analysis of Titanic Passenger Data"
   ]
  },
  {
   "cell_type": "markdown",
   "metadata": {},
   "source": [
    "This study is an excersize to show how to use foundations of Data Science in order to import, study, visualize, and present the raw data in a method that is easy for any user to digest and understand.\n",
    "\n",
    "This study uses passenger data from the ill-fated maiden voyage of the RMS Titanic (1912). The data (and explanation of the data) can be obtained from: https://www.kaggle.com/c/titanic/data\n",
    "\n",
    "First, the raw comma separated values (.cvs) data will be loaded into a Python (Pandas) dataframe.\n",
    "\n",
    "Second, there will be some data exploration. This will be completed mostly by loading plots of different data slices in order to better understand the data with visualization.  Visualizing the data makes generating a hypothesis easier.\n",
    "\n",
    "Third, the data will be analyzed.\n",
    "\n",
    "Lastly, a function has been created where a user can input their personal information to see their chances of surviving the Titanic disaster.\n",
    "\n",
    "**Note:** This is a Jupyter iPython Notebook. It allows code to be written, code output to be displayed, and also markup. It allows the analysis to be conducted and displayed. Comments that are intended for a general audience are presented in markup 'plain' text below each code segment. Comments that have to do with how the code works are above the code with a leading hashtag(#). However, due to the heavy display of Python code; it is not suitable for all audiencees. For example, if I were presenting my analysis to upper management, board of directors, a general audience, etc. I would not use this Notebook. I'd have much of the output in a PowerPoint type presentation. However, I would have the Jupyter Notebook available as a supplement, in case anyone wanted to see the code. Or, more importantly, the amount of work it took to create the pretty graphics."
   ]
  },
  {
   "cell_type": "markdown",
   "metadata": {},
   "source": [
    "## Questions...  Answered... With Data"
   ]
  },
  {
   "cell_type": "markdown",
   "metadata": {},
   "source": [
    "The question in this study is 'What factors contributed to a survivors likelihood of surviving the Titanic disaster?'"
   ]
  },
  {
   "cell_type": "markdown",
   "metadata": {},
   "source": [
    "## 1. Loading and Inspecting the Titanic Data"
   ]
  },
  {
   "cell_type": "code",
   "execution_count": 1,
   "metadata": {
    "collapsed": false
   },
   "outputs": [
    {
     "data": {
      "application/javascript": [
       "IPython.notebook.set_autosave_interval(180000)"
      ]
     },
     "metadata": {},
     "output_type": "display_data"
    },
    {
     "name": "stdout",
     "output_type": "stream",
     "text": [
      "Autosaving every 180 seconds\n",
      "Populating the interactive namespace from numpy and matplotlib\n"
     ]
    }
   ],
   "source": [
    "# Set AutoSave to 3 minutes\n",
    "%autosave 180\n",
    "# Import modules used in the analysis\n",
    "%pylab inline\n",
    "import numpy as np\n",
    "import pandas as pd\n",
    "import seaborn as sns\n",
    "sns.set(style=\"whitegrid\", color_codes=True)\n",
    "import matplotlib as mpl\n",
    "import matplotlib.pyplot as plt\n",
    "#matplotlib.style.use('seaborn-paper')"
   ]
  },
  {
   "cell_type": "code",
   "execution_count": 2,
   "metadata": {
    "collapsed": false
   },
   "outputs": [],
   "source": [
    "# The following code reads all the Titanic data into Pandas DataFrames\n",
    "# empty data will be filled in as NaN\n",
    "# The explanation of the data can be found:\n",
    "# https://www.kaggle.com/c/titanic/data\n",
    "titanic_df = pd.read_csv('titanic-data.csv', keep_default_na=True)\n",
    "# Set index as PassengerId\n",
    "titanic_df.set_index(['PassengerId'], inplace=True)"
   ]
  },
  {
   "cell_type": "code",
   "execution_count": 3,
   "metadata": {
    "collapsed": false
   },
   "outputs": [
    {
     "data": {
      "text/plain": [
       "(891, 11)"
      ]
     },
     "execution_count": 3,
     "metadata": {},
     "output_type": "execute_result"
    }
   ],
   "source": [
    "# Return shape to see how much data is being worked with\n",
    "titanic_df.shape"
   ]
  },
  {
   "cell_type": "code",
   "execution_count": 4,
   "metadata": {
    "collapsed": false
   },
   "outputs": [
    {
     "name": "stdout",
     "output_type": "stream",
     "text": [
      "<class 'pandas.core.frame.DataFrame'>\n",
      "Int64Index: 891 entries, 1 to 891\n",
      "Data columns (total 11 columns):\n",
      "Survived    891 non-null int64\n",
      "Pclass      891 non-null int64\n",
      "Name        891 non-null object\n",
      "Sex         891 non-null object\n",
      "Age         714 non-null float64\n",
      "SibSp       891 non-null int64\n",
      "Parch       891 non-null int64\n",
      "Ticket      891 non-null object\n",
      "Fare        891 non-null float64\n",
      "Cabin       204 non-null object\n",
      "Embarked    889 non-null object\n",
      "dtypes: float64(2), int64(4), object(5)\n",
      "memory usage: 83.5+ KB\n"
     ]
    }
   ],
   "source": [
    "# Show counts and data types for all columns\n",
    "titanic_df.info()"
   ]
  },
  {
   "cell_type": "markdown",
   "metadata": {},
   "source": [
    "The first thing that caught my eye when running the .info function is that not every passenger has a value for cabin and age. \n",
    "\n",
    "Another thing that the .shape and .describe functions above indicate is that there are only 891 passengers in this dataset. According to the Wikipedia article on the titanic, the capacity figures are as follows:\n",
    "\n",
    "Passengers: 2,435 | Crew: 892 | Total: 3,327 (or 3,547 according to other sources)\n",
    "\n",
    "So, it looks like the dataset is not complete. Perhaps it is a sample, perhaps it is incomplete. We are not sure, but we will continue on."
   ]
  },
  {
   "cell_type": "code",
   "execution_count": 5,
   "metadata": {
    "collapsed": false
   },
   "outputs": [
    {
     "data": {
      "text/html": [
       "<div>\n",
       "<table border=\"1\" class=\"dataframe\">\n",
       "  <thead>\n",
       "    <tr style=\"text-align: right;\">\n",
       "      <th></th>\n",
       "      <th>Survived</th>\n",
       "      <th>Pclass</th>\n",
       "      <th>Name</th>\n",
       "      <th>Sex</th>\n",
       "      <th>Age</th>\n",
       "      <th>SibSp</th>\n",
       "      <th>Parch</th>\n",
       "      <th>Ticket</th>\n",
       "      <th>Fare</th>\n",
       "      <th>Cabin</th>\n",
       "      <th>Embarked</th>\n",
       "    </tr>\n",
       "    <tr>\n",
       "      <th>PassengerId</th>\n",
       "      <th></th>\n",
       "      <th></th>\n",
       "      <th></th>\n",
       "      <th></th>\n",
       "      <th></th>\n",
       "      <th></th>\n",
       "      <th></th>\n",
       "      <th></th>\n",
       "      <th></th>\n",
       "      <th></th>\n",
       "      <th></th>\n",
       "    </tr>\n",
       "  </thead>\n",
       "  <tbody>\n",
       "    <tr>\n",
       "      <th>1</th>\n",
       "      <td>0</td>\n",
       "      <td>3</td>\n",
       "      <td>Braund, Mr. Owen Harris</td>\n",
       "      <td>male</td>\n",
       "      <td>22.0</td>\n",
       "      <td>1</td>\n",
       "      <td>0</td>\n",
       "      <td>A/5 21171</td>\n",
       "      <td>7.2500</td>\n",
       "      <td>NaN</td>\n",
       "      <td>S</td>\n",
       "    </tr>\n",
       "    <tr>\n",
       "      <th>2</th>\n",
       "      <td>1</td>\n",
       "      <td>1</td>\n",
       "      <td>Cumings, Mrs. John Bradley (Florence Briggs Th...</td>\n",
       "      <td>female</td>\n",
       "      <td>38.0</td>\n",
       "      <td>1</td>\n",
       "      <td>0</td>\n",
       "      <td>PC 17599</td>\n",
       "      <td>71.2833</td>\n",
       "      <td>C85</td>\n",
       "      <td>C</td>\n",
       "    </tr>\n",
       "    <tr>\n",
       "      <th>3</th>\n",
       "      <td>1</td>\n",
       "      <td>3</td>\n",
       "      <td>Heikkinen, Miss. Laina</td>\n",
       "      <td>female</td>\n",
       "      <td>26.0</td>\n",
       "      <td>0</td>\n",
       "      <td>0</td>\n",
       "      <td>STON/O2. 3101282</td>\n",
       "      <td>7.9250</td>\n",
       "      <td>NaN</td>\n",
       "      <td>S</td>\n",
       "    </tr>\n",
       "    <tr>\n",
       "      <th>4</th>\n",
       "      <td>1</td>\n",
       "      <td>1</td>\n",
       "      <td>Futrelle, Mrs. Jacques Heath (Lily May Peel)</td>\n",
       "      <td>female</td>\n",
       "      <td>35.0</td>\n",
       "      <td>1</td>\n",
       "      <td>0</td>\n",
       "      <td>113803</td>\n",
       "      <td>53.1000</td>\n",
       "      <td>C123</td>\n",
       "      <td>S</td>\n",
       "    </tr>\n",
       "    <tr>\n",
       "      <th>5</th>\n",
       "      <td>0</td>\n",
       "      <td>3</td>\n",
       "      <td>Allen, Mr. William Henry</td>\n",
       "      <td>male</td>\n",
       "      <td>35.0</td>\n",
       "      <td>0</td>\n",
       "      <td>0</td>\n",
       "      <td>373450</td>\n",
       "      <td>8.0500</td>\n",
       "      <td>NaN</td>\n",
       "      <td>S</td>\n",
       "    </tr>\n",
       "  </tbody>\n",
       "</table>\n",
       "</div>"
      ],
      "text/plain": [
       "             Survived  Pclass  \\\n",
       "PassengerId                     \n",
       "1                   0       3   \n",
       "2                   1       1   \n",
       "3                   1       3   \n",
       "4                   1       1   \n",
       "5                   0       3   \n",
       "\n",
       "                                                          Name     Sex   Age  \\\n",
       "PassengerId                                                                    \n",
       "1                                      Braund, Mr. Owen Harris    male  22.0   \n",
       "2            Cumings, Mrs. John Bradley (Florence Briggs Th...  female  38.0   \n",
       "3                                       Heikkinen, Miss. Laina  female  26.0   \n",
       "4                 Futrelle, Mrs. Jacques Heath (Lily May Peel)  female  35.0   \n",
       "5                                     Allen, Mr. William Henry    male  35.0   \n",
       "\n",
       "             SibSp  Parch            Ticket     Fare Cabin Embarked  \n",
       "PassengerId                                                          \n",
       "1                1      0         A/5 21171   7.2500   NaN        S  \n",
       "2                1      0          PC 17599  71.2833   C85        C  \n",
       "3                0      0  STON/O2. 3101282   7.9250   NaN        S  \n",
       "4                1      0            113803  53.1000  C123        S  \n",
       "5                0      0            373450   8.0500   NaN        S  "
      ]
     },
     "execution_count": 5,
     "metadata": {},
     "output_type": "execute_result"
    }
   ],
   "source": [
    "# Inspect the data with .head\n",
    "titanic_df.head(5)"
   ]
  },
  {
   "cell_type": "markdown",
   "metadata": {},
   "source": [
    "The .head function gives us a preview of the data without having to load the entire dataset. It shows all the 'columns' of data for each passenger 'row'. As we saw above, we know that there was both passengers and crew on the titanic. Since this dataset includes  a column for 'Pclass', 'Ticket',  'Fare', and 'Cabin'; we can assume that this dataset only includes true **passengers** of the Titanic. It does not include crew."
   ]
  },
  {
   "cell_type": "code",
   "execution_count": 6,
   "metadata": {
    "collapsed": false
   },
   "outputs": [
    {
     "data": {
      "text/html": [
       "<div>\n",
       "<table border=\"1\" class=\"dataframe\">\n",
       "  <thead>\n",
       "    <tr style=\"text-align: right;\">\n",
       "      <th></th>\n",
       "      <th>Survived</th>\n",
       "      <th>Pclass</th>\n",
       "      <th>Age</th>\n",
       "      <th>SibSp</th>\n",
       "      <th>Parch</th>\n",
       "      <th>Fare</th>\n",
       "    </tr>\n",
       "  </thead>\n",
       "  <tbody>\n",
       "    <tr>\n",
       "      <th>count</th>\n",
       "      <td>891.000000</td>\n",
       "      <td>891.000000</td>\n",
       "      <td>714.000000</td>\n",
       "      <td>891.000000</td>\n",
       "      <td>891.000000</td>\n",
       "      <td>891.000000</td>\n",
       "    </tr>\n",
       "    <tr>\n",
       "      <th>mean</th>\n",
       "      <td>0.383838</td>\n",
       "      <td>2.308642</td>\n",
       "      <td>29.699118</td>\n",
       "      <td>0.523008</td>\n",
       "      <td>0.381594</td>\n",
       "      <td>32.204208</td>\n",
       "    </tr>\n",
       "    <tr>\n",
       "      <th>std</th>\n",
       "      <td>0.486592</td>\n",
       "      <td>0.836071</td>\n",
       "      <td>14.526497</td>\n",
       "      <td>1.102743</td>\n",
       "      <td>0.806057</td>\n",
       "      <td>49.693429</td>\n",
       "    </tr>\n",
       "    <tr>\n",
       "      <th>min</th>\n",
       "      <td>0.000000</td>\n",
       "      <td>1.000000</td>\n",
       "      <td>0.420000</td>\n",
       "      <td>0.000000</td>\n",
       "      <td>0.000000</td>\n",
       "      <td>0.000000</td>\n",
       "    </tr>\n",
       "    <tr>\n",
       "      <th>25%</th>\n",
       "      <td>0.000000</td>\n",
       "      <td>2.000000</td>\n",
       "      <td>20.125000</td>\n",
       "      <td>0.000000</td>\n",
       "      <td>0.000000</td>\n",
       "      <td>7.910400</td>\n",
       "    </tr>\n",
       "    <tr>\n",
       "      <th>50%</th>\n",
       "      <td>0.000000</td>\n",
       "      <td>3.000000</td>\n",
       "      <td>28.000000</td>\n",
       "      <td>0.000000</td>\n",
       "      <td>0.000000</td>\n",
       "      <td>14.454200</td>\n",
       "    </tr>\n",
       "    <tr>\n",
       "      <th>75%</th>\n",
       "      <td>1.000000</td>\n",
       "      <td>3.000000</td>\n",
       "      <td>38.000000</td>\n",
       "      <td>1.000000</td>\n",
       "      <td>0.000000</td>\n",
       "      <td>31.000000</td>\n",
       "    </tr>\n",
       "    <tr>\n",
       "      <th>max</th>\n",
       "      <td>1.000000</td>\n",
       "      <td>3.000000</td>\n",
       "      <td>80.000000</td>\n",
       "      <td>8.000000</td>\n",
       "      <td>6.000000</td>\n",
       "      <td>512.329200</td>\n",
       "    </tr>\n",
       "  </tbody>\n",
       "</table>\n",
       "</div>"
      ],
      "text/plain": [
       "         Survived      Pclass         Age       SibSp       Parch        Fare\n",
       "count  891.000000  891.000000  714.000000  891.000000  891.000000  891.000000\n",
       "mean     0.383838    2.308642   29.699118    0.523008    0.381594   32.204208\n",
       "std      0.486592    0.836071   14.526497    1.102743    0.806057   49.693429\n",
       "min      0.000000    1.000000    0.420000    0.000000    0.000000    0.000000\n",
       "25%      0.000000    2.000000   20.125000    0.000000    0.000000    7.910400\n",
       "50%      0.000000    3.000000   28.000000    0.000000    0.000000   14.454200\n",
       "75%      1.000000    3.000000   38.000000    1.000000    0.000000   31.000000\n",
       "max      1.000000    3.000000   80.000000    8.000000    6.000000  512.329200"
      ]
     },
     "execution_count": 6,
     "metadata": {},
     "output_type": "execute_result"
    }
   ],
   "source": [
    "# Get some quick and dirty statistics with pd.describe\n",
    "titanic_df.describe()"
   ]
  },
  {
   "cell_type": "markdown",
   "metadata": {},
   "source": [
    "The pd.describe function will give lots of information that will most likely be needed later. So we'll pd.describe across the dataset. Some of this information is basically jiberish because it makes no sense to have something like a mean of unique passenger IDs (all unique) or survivalship (boolean)."
   ]
  },
  {
   "cell_type": "markdown",
   "metadata": {},
   "source": [
    "## 2. Cleaning Data and Dealing With Missing Data"
   ]
  },
  {
   "cell_type": "markdown",
   "metadata": {},
   "source": [
    "In this section, we'll assess if the data needs to be cleaned. The data will be cleaned if decided it will be beneficial to the analysis. First, let's see what columns are missing data, how many missing values are missing, and what percent of the column has missing data.\n",
    "\n",
    "This will give us an idea of not only the number of missing values; but also the significance of this number of missing data."
   ]
  },
  {
   "cell_type": "code",
   "execution_count": 7,
   "metadata": {
    "collapsed": false
   },
   "outputs": [
    {
     "name": "stdout",
     "output_type": "stream",
     "text": [
      "Missing data in each Titanic dataframe column:\n",
      "Age : 177 missing values is 19.865 % of total\n",
      "Cabin : 687 missing values is 77.104 % of total\n",
      "Embarked : 2 missing values is 0.224 % of total\n"
     ]
    }
   ],
   "source": [
    "# Find how many missing values and percentage missing in each column\n",
    "print 'Missing data in each Titanic dataframe column:'\n",
    "for c in titanic_df.columns:\n",
    "    missing_data = len(titanic_df) - titanic_df[c].count()\n",
    "    if (missing_data > 0 or missing_data =='NaN'):\n",
    "        print c, ':', missing_data, 'missing values is', str(round(float(missing_data / float(len(titanic_df))) * 100, 3)), '% of total'"
   ]
  },
  {
   "cell_type": "markdown",
   "metadata": {},
   "source": [
    "We can see that in this particular data set, there is a huge number of passeners missing cabin data, and a fairly high amount of passengers with missing age data. There are very few passengers with missing Port of Embarkation Data.\n",
    "\n",
    "There are a number of methods that can be used to deal with this. Each has their pros and cons.\n",
    "1. Drop value: This approach is acceptable if there isn't much data with missing variables.\n",
    "2. Assign a value that shows data is missing: This approach could be appropriate for categories like Passenger Class and Cabin, as those are categorial variables. It wouldn't make much sense to do this on numeric data like age or fare.\n",
    "2. Fill in age data by assigning a mean/median/mode value.\n",
    "3. Somehow predict the missing ages by using other passenger data fields."
   ]
  },
  {
   "cell_type": "markdown",
   "metadata": {},
   "source": [
    "### 2.1. Cleaning Port of Embarkation"
   ]
  },
  {
   "cell_type": "code",
   "execution_count": 8,
   "metadata": {
    "collapsed": false
   },
   "outputs": [],
   "source": [
    "# Fill empty/NaN Embark values with most common Embark value\n",
    "titanic_df['Embarked'] = titanic_df['Embarked'].fillna(value=(titanic_df['Embarked'].value_counts().idxmax()))"
   ]
  },
  {
   "cell_type": "markdown",
   "metadata": {},
   "source": [
    "Since so few passengers were missing Port of Embarkation data; the few missing values were simply replaced with the most common value in the column."
   ]
  },
  {
   "cell_type": "markdown",
   "metadata": {},
   "source": [
    "### 2.2. Cleaning Cabin"
   ]
  },
  {
   "cell_type": "markdown",
   "metadata": {},
   "source": [
    "There's a huge amount of cabin data missing. We are also not yet sure of it's signifigance to surving the Titanic. Before we go about replacing missing Cabin data; let's take a look at what the Cabin data looks like:"
   ]
  },
  {
   "cell_type": "code",
   "execution_count": 9,
   "metadata": {
    "collapsed": false,
    "scrolled": true
   },
   "outputs": [
    {
     "data": {
      "text/plain": [
       "array([nan, 'C85', 'C123', 'E46', 'G6', 'C103', 'D56', 'A6', 'C23 C25 C27',\n",
       "       'B78', 'D33', 'B30', 'C52', 'B28', 'C83', 'F33', 'F G73', 'E31',\n",
       "       'A5', 'D10 D12', 'D26', 'C110', 'B58 B60', 'E101', 'F E69', 'D47',\n",
       "       'B86', 'F2', 'C2', 'E33', 'B19', 'A7', 'C49', 'F4', 'A32', 'B4',\n",
       "       'B80', 'A31', 'D36', 'D15', 'C93', 'C78', 'D35', 'C87', 'B77',\n",
       "       'E67', 'B94', 'C125', 'C99', 'C118', 'D7', 'A19', 'B49', 'D',\n",
       "       'C22 C26', 'C106', 'C65', 'E36', 'C54', 'B57 B59 B63 B66', 'C7',\n",
       "       'E34', 'C32', 'B18', 'C124', 'C91', 'E40', 'T', 'C128', 'D37',\n",
       "       'B35', 'E50', 'C82', 'B96 B98', 'E10', 'E44', 'A34', 'C104', 'C111',\n",
       "       'C92', 'E38', 'D21', 'E12', 'E63', 'A14', 'B37', 'C30', 'D20',\n",
       "       'B79', 'E25', 'D46', 'B73', 'C95', 'B38', 'B39', 'B22', 'C86',\n",
       "       'C70', 'A16', 'C101', 'C68', 'A10', 'E68', 'B41', 'A20', 'D19',\n",
       "       'D50', 'D9', 'A23', 'B50', 'A26', 'D48', 'E58', 'C126', 'B71',\n",
       "       'B51 B53 B55', 'D49', 'B5', 'B20', 'F G63', 'C62 C64', 'E24', 'C90',\n",
       "       'C45', 'E8', 'B101', 'D45', 'C46', 'D30', 'E121', 'D11', 'E77',\n",
       "       'F38', 'B3', 'D6', 'B82 B84', 'D17', 'A36', 'B102', 'B69', 'E49',\n",
       "       'C47', 'D28', 'E17', 'A24', 'C50', 'B42', 'C148'], dtype=object)"
      ]
     },
     "execution_count": 9,
     "metadata": {},
     "output_type": "execute_result"
    }
   ],
   "source": [
    "# Print unique values in Cabin column\n",
    "titanic_df.Cabin.unique()"
   ]
  },
  {
   "cell_type": "markdown",
   "metadata": {},
   "source": [
    "It appears that a Cabin on the Titanic starts with a letter and is followed by an integer. A bit of research on Titanic cabin letter indicate the deck.\n",
    "\n",
    "Note that some passengers had multiple entries for their Cabin. These people had multiple cabins because of a large group or family. We can see by printing the unique Cabin numbers of passengers, all but one entry with multiple cabin entries had all cabins on the same deck, and adjacent to eachother on the same side of the Titanic.\n",
    "\n",
    "I have a hunch that the deck a passenger was assigned to could have some impact on a passenger's overall survival. So, I will separate out this information."
   ]
  },
  {
   "cell_type": "code",
   "execution_count": 10,
   "metadata": {
    "collapsed": false
   },
   "outputs": [],
   "source": [
    "# Take the first character from the Cabin colum and use that as value for new 'Deck' column\n",
    "titanic_df['Deck'] = titanic_df['Cabin'].astype(str).str[0]\n",
    "# Replace the 'n' character leftover from Pandas NaN (not a number) and make those ? to identify as missing\n",
    "titanic_df['Deck'] = titanic_df['Deck'].replace('n', '?')"
   ]
  },
  {
   "cell_type": "markdown",
   "metadata": {},
   "source": [
    "I want to leave the original 'Cabin' column alone in case I need to visit it later, but need to get the 'Deck' information assigned to each passenger. First, to separate out the Deck each passenger is on, I created a new column in the Pandas dataframe called 'Deck'. I then took the first character from the 'Cabin' column. Also, since the 'N' character from Pandas 'Not a Number' value copies over, the 'n' value needed to be replaced.\n",
    "\n",
    "We are also not yet sure of it's signifigance to surving the Titanic. So, at this point in the analysis; we'll assign a value (?) to the missing Cabin data that shows us the value is missing. Later on, the fact that this information is missing could be found significant. "
   ]
  },
  {
   "cell_type": "markdown",
   "metadata": {},
   "source": [
    "### 2.3. Cleaning Name (Title)"
   ]
  },
  {
   "cell_type": "markdown",
   "metadata": {},
   "source": [
    "The 'Name' column in the titanic dataframe appears to give __every__ single passenger a title of some kind. This 'title' may become important later on, so let's create a new column that just holds a passenger's title."
   ]
  },
  {
   "cell_type": "code",
   "execution_count": 11,
   "metadata": {
    "collapsed": false,
    "scrolled": false
   },
   "outputs": [
    {
     "data": {
      "text/plain": [
       "Mr              517\n",
       "Miss            182\n",
       "Mrs             125\n",
       "Master           40\n",
       "Dr                7\n",
       "Rev               6\n",
       "Mlle              2\n",
       "Col               2\n",
       "Major             2\n",
       "Lady              1\n",
       "Jonkheer          1\n",
       "Don               1\n",
       "Ms                1\n",
       "Mme               1\n",
       "Capt              1\n",
       "the Countess      1\n",
       "Sir               1\n",
       "Name: TitleF, dtype: int64"
      ]
     },
     "execution_count": 11,
     "metadata": {},
     "output_type": "execute_result"
    }
   ],
   "source": [
    "# Split passenger titles in Name category and place in new 'TitleF' column\n",
    "titanic_df['TitleF'] = titanic_df['Name'].map(lambda name: name.split(',')[1].split('.')[0].strip())\n",
    "# Print unique passenger titles and their counts\n",
    "titanic_df['TitleF'].value_counts()"
   ]
  },
  {
   "cell_type": "markdown",
   "metadata": {},
   "source": [
    "Now that the titles derived from the passenger names have been printed and plotted; we can see there's quite a bit of them. Some of them are standard types of titles; but some are obscure and few are rare. Let's investigate these's obscure titles and see if they correlate with passenger sex:"
   ]
  },
  {
   "cell_type": "code",
   "execution_count": 12,
   "metadata": {
    "collapsed": false
   },
   "outputs": [
    {
     "data": {
      "text/html": [
       "<div>\n",
       "<table border=\"1\" class=\"dataframe\">\n",
       "  <thead>\n",
       "    <tr style=\"text-align: right;\">\n",
       "      <th>Sex</th>\n",
       "      <th>female</th>\n",
       "      <th>male</th>\n",
       "    </tr>\n",
       "    <tr>\n",
       "      <th>TitleF</th>\n",
       "      <th></th>\n",
       "      <th></th>\n",
       "    </tr>\n",
       "  </thead>\n",
       "  <tbody>\n",
       "    <tr>\n",
       "      <th>Capt</th>\n",
       "      <td>0</td>\n",
       "      <td>1</td>\n",
       "    </tr>\n",
       "    <tr>\n",
       "      <th>Col</th>\n",
       "      <td>0</td>\n",
       "      <td>2</td>\n",
       "    </tr>\n",
       "    <tr>\n",
       "      <th>Don</th>\n",
       "      <td>0</td>\n",
       "      <td>1</td>\n",
       "    </tr>\n",
       "    <tr>\n",
       "      <th>Dr</th>\n",
       "      <td>1</td>\n",
       "      <td>6</td>\n",
       "    </tr>\n",
       "    <tr>\n",
       "      <th>Jonkheer</th>\n",
       "      <td>0</td>\n",
       "      <td>1</td>\n",
       "    </tr>\n",
       "    <tr>\n",
       "      <th>Lady</th>\n",
       "      <td>1</td>\n",
       "      <td>0</td>\n",
       "    </tr>\n",
       "    <tr>\n",
       "      <th>Major</th>\n",
       "      <td>0</td>\n",
       "      <td>2</td>\n",
       "    </tr>\n",
       "    <tr>\n",
       "      <th>Master</th>\n",
       "      <td>0</td>\n",
       "      <td>40</td>\n",
       "    </tr>\n",
       "    <tr>\n",
       "      <th>Miss</th>\n",
       "      <td>182</td>\n",
       "      <td>0</td>\n",
       "    </tr>\n",
       "    <tr>\n",
       "      <th>Mlle</th>\n",
       "      <td>2</td>\n",
       "      <td>0</td>\n",
       "    </tr>\n",
       "    <tr>\n",
       "      <th>Mme</th>\n",
       "      <td>1</td>\n",
       "      <td>0</td>\n",
       "    </tr>\n",
       "    <tr>\n",
       "      <th>Mr</th>\n",
       "      <td>0</td>\n",
       "      <td>517</td>\n",
       "    </tr>\n",
       "    <tr>\n",
       "      <th>Mrs</th>\n",
       "      <td>125</td>\n",
       "      <td>0</td>\n",
       "    </tr>\n",
       "    <tr>\n",
       "      <th>Ms</th>\n",
       "      <td>1</td>\n",
       "      <td>0</td>\n",
       "    </tr>\n",
       "    <tr>\n",
       "      <th>Rev</th>\n",
       "      <td>0</td>\n",
       "      <td>6</td>\n",
       "    </tr>\n",
       "    <tr>\n",
       "      <th>Sir</th>\n",
       "      <td>0</td>\n",
       "      <td>1</td>\n",
       "    </tr>\n",
       "    <tr>\n",
       "      <th>the Countess</th>\n",
       "      <td>1</td>\n",
       "      <td>0</td>\n",
       "    </tr>\n",
       "  </tbody>\n",
       "</table>\n",
       "</div>"
      ],
      "text/plain": [
       "Sex           female  male\n",
       "TitleF                    \n",
       "Capt               0     1\n",
       "Col                0     2\n",
       "Don                0     1\n",
       "Dr                 1     6\n",
       "Jonkheer           0     1\n",
       "Lady               1     0\n",
       "Major              0     2\n",
       "Master             0    40\n",
       "Miss             182     0\n",
       "Mlle               2     0\n",
       "Mme                1     0\n",
       "Mr                 0   517\n",
       "Mrs              125     0\n",
       "Ms                 1     0\n",
       "Rev                0     6\n",
       "Sir                0     1\n",
       "the Countess       1     0"
      ]
     },
     "execution_count": 12,
     "metadata": {},
     "output_type": "execute_result"
    }
   ],
   "source": [
    "# Are the titles Sex specific?\n",
    "pd.crosstab(titanic_df['TitleF'], titanic_df['Sex'])"
   ]
  },
  {
   "cell_type": "markdown",
   "metadata": {},
   "source": [
    "It would be best if we could condense this list of titles and replace all the rare/unique titles and just use the most common four most popular titles (Mr, Miss, Mrs, Master) which also indicate sex _and_ age. Notice there's a female Dr. Wow, this would have been super uncommon in that time period. Just out of curiosity let's see if this is a fluke in the data:"
   ]
  },
  {
   "cell_type": "code",
   "execution_count": 13,
   "metadata": {
    "collapsed": false
   },
   "outputs": [
    {
     "data": {
      "text/html": [
       "<div>\n",
       "<table border=\"1\" class=\"dataframe\">\n",
       "  <thead>\n",
       "    <tr style=\"text-align: right;\">\n",
       "      <th></th>\n",
       "      <th>Survived</th>\n",
       "      <th>Pclass</th>\n",
       "      <th>Name</th>\n",
       "      <th>Sex</th>\n",
       "      <th>Age</th>\n",
       "      <th>SibSp</th>\n",
       "      <th>Parch</th>\n",
       "      <th>Ticket</th>\n",
       "      <th>Fare</th>\n",
       "      <th>Cabin</th>\n",
       "      <th>Embarked</th>\n",
       "      <th>Deck</th>\n",
       "      <th>TitleF</th>\n",
       "    </tr>\n",
       "    <tr>\n",
       "      <th>PassengerId</th>\n",
       "      <th></th>\n",
       "      <th></th>\n",
       "      <th></th>\n",
       "      <th></th>\n",
       "      <th></th>\n",
       "      <th></th>\n",
       "      <th></th>\n",
       "      <th></th>\n",
       "      <th></th>\n",
       "      <th></th>\n",
       "      <th></th>\n",
       "      <th></th>\n",
       "      <th></th>\n",
       "    </tr>\n",
       "  </thead>\n",
       "  <tbody>\n",
       "    <tr>\n",
       "      <th>797</th>\n",
       "      <td>1</td>\n",
       "      <td>1</td>\n",
       "      <td>Leader, Dr. Alice (Farnham)</td>\n",
       "      <td>female</td>\n",
       "      <td>49.0</td>\n",
       "      <td>0</td>\n",
       "      <td>0</td>\n",
       "      <td>17465</td>\n",
       "      <td>25.9292</td>\n",
       "      <td>D17</td>\n",
       "      <td>S</td>\n",
       "      <td>D</td>\n",
       "      <td>Dr</td>\n",
       "    </tr>\n",
       "  </tbody>\n",
       "</table>\n",
       "</div>"
      ],
      "text/plain": [
       "             Survived  Pclass                         Name     Sex   Age  \\\n",
       "PassengerId                                                                \n",
       "797                 1       1  Leader, Dr. Alice (Farnham)  female  49.0   \n",
       "\n",
       "             SibSp  Parch Ticket     Fare Cabin Embarked Deck TitleF  \n",
       "PassengerId                                                           \n",
       "797              0      0  17465  25.9292   D17        S    D     Dr  "
      ]
     },
     "execution_count": 13,
     "metadata": {},
     "output_type": "execute_result"
    }
   ],
   "source": [
    "# Find lone female Dr\n",
    "titanic_df[(titanic_df['TitleF'] == 'Dr') & (titanic_df['Sex'] == 'female')]"
   ]
  },
  {
   "cell_type": "markdown",
   "metadata": {},
   "source": [
    "I surely thought that the title of 'Dr' would have been 100% male. Sometimes it's good to take extra steps like above to make sure instead of assuming. Turns out this female Dr was Titanic Survivor Alice Leader: https://www.encyclopedia-titanica.org/titanic-survivor/alice-leader.html\n",
    "\n",
    "Now I know I need to write code to separate out male and female doctors as Mr and Mrs, respectively."
   ]
  },
  {
   "cell_type": "code",
   "execution_count": 14,
   "metadata": {
    "collapsed": false
   },
   "outputs": [
    {
     "data": {
      "text/plain": [
       "Mr        537\n",
       "Miss      182\n",
       "Mrs       132\n",
       "Master     40\n",
       "Name: TitleS, dtype: int64"
      ]
     },
     "execution_count": 14,
     "metadata": {},
     "output_type": "execute_result"
    }
   ],
   "source": [
    "# Create new 'TitleS' column to store shortened title from full 'TitleF' column\n",
    "titanic_df['TitleS'] = titanic_df['TitleF']\n",
    "# Replace adult female titles with 'Mrs'\n",
    "titanic_df['TitleS'] = titanic_df['TitleS'].replace(['Lady', 'Mlle', 'Mme', 'Ms', 'the Countess'], 'Mrs')\n",
    "# Replace adult male titles with 'Mr'\n",
    "titanic_df['TitleS'] = titanic_df['TitleS'].replace(['Capt', 'Col', 'Don', 'Jonkheer', 'Major', 'Rev', 'Sir'], 'Mr')\n",
    "# Replace females with title of Dr to Mrs\n",
    "titanic_df['TitleS'] = titanic_df['TitleS'].replace(titanic_df['TitleS'].loc[(titanic_df.Sex == 'female') & (titanic_df.TitleF == 'Dr')], 'Mrs')\n",
    "# Replace males with title of Dr to Mr\n",
    "titanic_df['TitleS'] = titanic_df['TitleS'].replace(titanic_df['TitleS'].loc[(titanic_df.Sex == 'male') & (titanic_df.TitleF == 'Dr')], 'Mr')\n",
    "# Print unique passenger TitleS\n",
    "titanic_df['TitleS'].value_counts()"
   ]
  },
  {
   "cell_type": "markdown",
   "metadata": {},
   "source": [
    "It looks like this is pretty much these titles could be the only data that could possibly be used to estimate the age of a passenger. Let's check and see if title has something to do with age."
   ]
  },
  {
   "cell_type": "code",
   "execution_count": 15,
   "metadata": {
    "collapsed": false
   },
   "outputs": [
    {
     "data": {
      "image/png": "[encoded data removed]",
      "text/plain": [
       "<matplotlib.figure.Figure at 0x103f7d210>"
      ]
     },
     "metadata": {},
     "output_type": "display_data"
    }
   ],
   "source": [
    "# Draw nested boxplot to show age by title\n",
    "sns.boxplot(x='TitleS', y='Age', data=titanic_df)\n",
    "plt.xlabel('Passenger Title')\n",
    "plt.ylabel('Age')\n",
    "plt.show()"
   ]
  },
  {
   "cell_type": "markdown",
   "metadata": {},
   "source": [
    " We can see how well the titles predict age by printing a boxplot to summarize the features of quantitative variables (outliers, max/min, upper/lower quartiles, and median).\n"
   ]
  },
  {
   "cell_type": "markdown",
   "metadata": {},
   "source": [
    "### 2.4. Cleaning Age by creating 'Man, Woman, Child' category\n"
   ]
  },
  {
   "cell_type": "markdown",
   "metadata": {},
   "source": [
    "In the boxplot above we can essentially see the Victorian era's definition of child and adult. This could be beneficial to isolate in order to predict Titanic survival; rather than the numeric value of someone's actual age. \n",
    "\n",
    "Now the passengers have been isolated into the four common titles of sex and age; Mr, Mrs, Miss, Master. So now, even though we do not have all the values filled in the 'Age' column; we do have some sort of column that can be used to predict age. So, I want to create another column ['MWC'] that dictates whether a passenger is a man, woman, or child.\n",
    "\n",
    "Finding the men and women is simple. All those passengers with 'Mr' or 'Mrs' as their title would be considered Men or Women during the Titanic era. Finding male children is also simple; those with the title of 'Master' are male children. \n",
    "\n",
    "Finding female children is the difficult part; as the title of 'Miss' has quite the spread. In order to do the best attempt at classifying these Misses into Women or Children, this requires a bit of research into Victorian ages. Most historical research related to The Titanic  describe children as those 14 years of age and younger. So we will use that age. Notice, that this is very close to the lower quartile of the 'Miss' category in the boxplot above."
   ]
  },
  {
   "cell_type": "code",
   "execution_count": 16,
   "metadata": {
    "collapsed": false
   },
   "outputs": [
    {
     "name": "stdout",
     "output_type": "stream",
     "text": [
      "Man      537\n",
      "Woman    241\n",
      "Child     77\n",
      "Miss      36\n",
      "Name: MWC, dtype: int64\n",
      "\n",
      "count     891\n",
      "unique      4\n",
      "top       Man\n",
      "freq      537\n",
      "Name: MWC, dtype: object\n"
     ]
    }
   ],
   "source": [
    "# Create new 'MWC' column to store Man, Woman, Child descriptions\n",
    "titanic_df['MWC'] = titanic_df['TitleS']\n",
    "# Replace 'Mr' with 'Man'\n",
    "titanic_df['MWC'] = titanic_df['MWC'].replace('Mr', 'Man')\n",
    "# Replace 'Mrs' with 'Woman'\n",
    "titanic_df['MWC'] = titanic_df['MWC'].replace('Mrs', 'Woman')\n",
    "# Replace 'Master' with 'Child'\n",
    "titanic_df['MWC'] = titanic_df['MWC'].replace('Master', 'Child')\n",
    "# Replace Misses with value in Age 14 and lower with 'Child'\n",
    "titanic_df['MWC'] = titanic_df['MWC'].replace(titanic_df['MWC'].loc[(titanic_df.Age <= 14) & (titanic_df.MWC == 'Miss')], 'Child')\n",
    "# Replace Misses with value in Age higher than 14 with 'Woman'\n",
    "titanic_df['MWC'] = titanic_df['MWC'].replace(titanic_df['MWC'].loc[(titanic_df.Age > 14) & (titanic_df.MWC == 'Miss')], 'Woman')\n",
    "# Print MWC stats\n",
    "print titanic_df['MWC'].value_counts()\n",
    "print ''\n",
    "print titanic_df['MWC'].describe()"
   ]
  },
  {
   "cell_type": "markdown",
   "metadata": {},
   "source": [
    "So now we have done the bulk of the work in dividing the passengers into the category of Man, Woman, or Child. Every title has been accounted for except for some still recorded as 'Miss'. These are the female passengers with the title of Miss who have an unknown Age. Here we will need to predict their age using the information we have available with the original Misses data. Let's get some statistical information from the 'Miss' passengers:"
   ]
  },
  {
   "cell_type": "code",
   "execution_count": 17,
   "metadata": {
    "collapsed": false
   },
   "outputs": [
    {
     "data": {
      "image/png": "[encoded data removed]",
      "text/plain": [
       "<matplotlib.figure.Figure at 0x10ffcf910>"
      ]
     },
     "metadata": {},
     "output_type": "display_data"
    },
    {
     "name": "stdout",
     "output_type": "stream",
     "text": [
      "Misses Stats:\n",
      "count    146.000000\n",
      "mean      21.773973\n",
      "std       12.990292\n",
      "min        0.750000\n",
      "25%       14.125000\n",
      "50%       21.000000\n",
      "75%       30.000000\n",
      "max       63.000000\n",
      "Name: Age, dtype: float64\n"
     ]
    }
   ],
   "source": [
    "# Draw nested boxplot to show age of Misses\n",
    "sns.boxplot(x=titanic_df['TitleS'].loc[(titanic_df.TitleS == 'Miss')], y='Age', data=titanic_df)\n",
    "plt.xlabel('Passenger Title')\n",
    "plt.ylabel('Age')\n",
    "plt.show()\n",
    "print 'Misses Stats:'\n",
    "print titanic_df[(titanic_df['TitleS'] == 'Miss')].Age.describe()"
   ]
  },
  {
   "cell_type": "markdown",
   "metadata": {},
   "source": [
    "The above information gives us the statistical information of the Misses in the Titanic dataset. The above statistics are graphically represented in the box plot above, but we need the actual values. It would be simple to just replace the missing age values with the mean, but that would automatically make all those leftover Misses a Woman. Could we do something better? How about we recreate the above Age statistics. Then we'll use those values to predict whether those Misses are women or children."
   ]
  },
  {
   "cell_type": "code",
   "execution_count": 18,
   "metadata": {
    "collapsed": false
   },
   "outputs": [
    {
     "name": "stdout",
     "output_type": "stream",
     "text": [
      "[23 27 16 10  6 44 22 23 27 18 14 29 25 33 25 25 26 33 -5 23 15 31 10 16 36\n",
      " 32  4 17 21 -3  2 18 11 12 24 23]\n"
     ]
    },
    {
     "data": {
      "image/png": "[encoded data removed]",
      "text/plain": [
       "<matplotlib.figure.Figure at 0x1124ae290>"
      ]
     },
     "metadata": {},
     "output_type": "display_data"
    }
   ],
   "source": [
    "# Use Gaussian random number generator to create a series of numbers based on Misses Age statistics\n",
    "# loc = mean of Misses Age, scale = std of Misses Age, size= number of Misses missing Age\n",
    "# astype(int) to convert normally generated floats into int\n",
    "random_misses = (np.random.normal(loc=titanic_df[(titanic_df['TitleS'] == 'Miss')].Age.mean(), scale=titanic_df[(titanic_df['TitleS'] == 'Miss')].Age.std(), size=len(titanic_df[(titanic_df['MWC'] == 'Miss') & (pd.isnull(titanic_df['Age']) == True)])).astype(int))\n",
    "print random_misses\n",
    "plt.hist(random_misses)\n",
    "plt.show()"
   ]
  },
  {
   "cell_type": "markdown",
   "metadata": {},
   "source": [
    "Above you can see the randomly generated integers based on the original statistics. The plot shows that these new numbers looks pretty close to a random normal distribution, so we will preceed with replacing the Misses with missing ages with this series:\n",
    "\n",
    "**NOTE:** Mathematically speaking,  it's not always possible to have a gaussian random normal generator come up with only positive values. Also, mathetmatically speaking the generator generates floats. I converted these floats to ints so the fractions of a number are ignored. Converting the floats to ints is not 100% mathematically acurate; but for this excersize it will still work great. _You can refresh the above cell until you get a destribution you like or just use whatever is generated first._"
   ]
  },
  {
   "cell_type": "code",
   "execution_count": 19,
   "metadata": {
    "collapsed": false,
    "scrolled": true
   },
   "outputs": [
    {
     "data": {
      "text/html": [
       "<div>\n",
       "<table border=\"1\" class=\"dataframe\">\n",
       "  <thead>\n",
       "    <tr style=\"text-align: right;\">\n",
       "      <th></th>\n",
       "      <th>Survived</th>\n",
       "      <th>Pclass</th>\n",
       "      <th>Name</th>\n",
       "      <th>Sex</th>\n",
       "      <th>Age</th>\n",
       "      <th>SibSp</th>\n",
       "      <th>Parch</th>\n",
       "      <th>Ticket</th>\n",
       "      <th>Fare</th>\n",
       "      <th>Cabin</th>\n",
       "      <th>Embarked</th>\n",
       "      <th>Deck</th>\n",
       "      <th>TitleF</th>\n",
       "      <th>TitleS</th>\n",
       "      <th>MWC</th>\n",
       "    </tr>\n",
       "    <tr>\n",
       "      <th>PassengerId</th>\n",
       "      <th></th>\n",
       "      <th></th>\n",
       "      <th></th>\n",
       "      <th></th>\n",
       "      <th></th>\n",
       "      <th></th>\n",
       "      <th></th>\n",
       "      <th></th>\n",
       "      <th></th>\n",
       "      <th></th>\n",
       "      <th></th>\n",
       "      <th></th>\n",
       "      <th></th>\n",
       "      <th></th>\n",
       "      <th></th>\n",
       "    </tr>\n",
       "  </thead>\n",
       "  <tbody>\n",
       "    <tr>\n",
       "      <th>29</th>\n",
       "      <td>1</td>\n",
       "      <td>3</td>\n",
       "      <td>O'Dwyer, Miss. Ellen \"Nellie\"</td>\n",
       "      <td>female</td>\n",
       "      <td>NaN</td>\n",
       "      <td>0</td>\n",
       "      <td>0</td>\n",
       "      <td>330959</td>\n",
       "      <td>7.8792</td>\n",
       "      <td>NaN</td>\n",
       "      <td>Q</td>\n",
       "      <td>?</td>\n",
       "      <td>Miss</td>\n",
       "      <td>Miss</td>\n",
       "      <td>Miss</td>\n",
       "    </tr>\n",
       "    <tr>\n",
       "      <th>33</th>\n",
       "      <td>1</td>\n",
       "      <td>3</td>\n",
       "      <td>Glynn, Miss. Mary Agatha</td>\n",
       "      <td>female</td>\n",
       "      <td>NaN</td>\n",
       "      <td>0</td>\n",
       "      <td>0</td>\n",
       "      <td>335677</td>\n",
       "      <td>7.7500</td>\n",
       "      <td>NaN</td>\n",
       "      <td>Q</td>\n",
       "      <td>?</td>\n",
       "      <td>Miss</td>\n",
       "      <td>Miss</td>\n",
       "      <td>Miss</td>\n",
       "    </tr>\n",
       "    <tr>\n",
       "      <th>48</th>\n",
       "      <td>1</td>\n",
       "      <td>3</td>\n",
       "      <td>O'Driscoll, Miss. Bridget</td>\n",
       "      <td>female</td>\n",
       "      <td>NaN</td>\n",
       "      <td>0</td>\n",
       "      <td>0</td>\n",
       "      <td>14311</td>\n",
       "      <td>7.7500</td>\n",
       "      <td>NaN</td>\n",
       "      <td>Q</td>\n",
       "      <td>?</td>\n",
       "      <td>Miss</td>\n",
       "      <td>Miss</td>\n",
       "      <td>Miss</td>\n",
       "    </tr>\n",
       "    <tr>\n",
       "      <th>83</th>\n",
       "      <td>1</td>\n",
       "      <td>3</td>\n",
       "      <td>McDermott, Miss. Brigdet Delia</td>\n",
       "      <td>female</td>\n",
       "      <td>NaN</td>\n",
       "      <td>0</td>\n",
       "      <td>0</td>\n",
       "      <td>330932</td>\n",
       "      <td>7.7875</td>\n",
       "      <td>NaN</td>\n",
       "      <td>Q</td>\n",
       "      <td>?</td>\n",
       "      <td>Miss</td>\n",
       "      <td>Miss</td>\n",
       "      <td>Miss</td>\n",
       "    </tr>\n",
       "    <tr>\n",
       "      <th>110</th>\n",
       "      <td>1</td>\n",
       "      <td>3</td>\n",
       "      <td>Moran, Miss. Bertha</td>\n",
       "      <td>female</td>\n",
       "      <td>NaN</td>\n",
       "      <td>1</td>\n",
       "      <td>0</td>\n",
       "      <td>371110</td>\n",
       "      <td>24.1500</td>\n",
       "      <td>NaN</td>\n",
       "      <td>Q</td>\n",
       "      <td>?</td>\n",
       "      <td>Miss</td>\n",
       "      <td>Miss</td>\n",
       "      <td>Miss</td>\n",
       "    </tr>\n",
       "    <tr>\n",
       "      <th>129</th>\n",
       "      <td>1</td>\n",
       "      <td>3</td>\n",
       "      <td>Peter, Miss. Anna</td>\n",
       "      <td>female</td>\n",
       "      <td>NaN</td>\n",
       "      <td>1</td>\n",
       "      <td>1</td>\n",
       "      <td>2668</td>\n",
       "      <td>22.3583</td>\n",
       "      <td>F E69</td>\n",
       "      <td>C</td>\n",
       "      <td>F</td>\n",
       "      <td>Miss</td>\n",
       "      <td>Miss</td>\n",
       "      <td>Miss</td>\n",
       "    </tr>\n",
       "    <tr>\n",
       "      <th>181</th>\n",
       "      <td>0</td>\n",
       "      <td>3</td>\n",
       "      <td>Sage, Miss. Constance Gladys</td>\n",
       "      <td>female</td>\n",
       "      <td>NaN</td>\n",
       "      <td>8</td>\n",
       "      <td>2</td>\n",
       "      <td>CA. 2343</td>\n",
       "      <td>69.5500</td>\n",
       "      <td>NaN</td>\n",
       "      <td>S</td>\n",
       "      <td>?</td>\n",
       "      <td>Miss</td>\n",
       "      <td>Miss</td>\n",
       "      <td>Miss</td>\n",
       "    </tr>\n",
       "    <tr>\n",
       "      <th>199</th>\n",
       "      <td>1</td>\n",
       "      <td>3</td>\n",
       "      <td>Madigan, Miss. Margaret \"Maggie\"</td>\n",
       "      <td>female</td>\n",
       "      <td>NaN</td>\n",
       "      <td>0</td>\n",
       "      <td>0</td>\n",
       "      <td>370370</td>\n",
       "      <td>7.7500</td>\n",
       "      <td>NaN</td>\n",
       "      <td>Q</td>\n",
       "      <td>?</td>\n",
       "      <td>Miss</td>\n",
       "      <td>Miss</td>\n",
       "      <td>Miss</td>\n",
       "    </tr>\n",
       "    <tr>\n",
       "      <th>230</th>\n",
       "      <td>0</td>\n",
       "      <td>3</td>\n",
       "      <td>Lefebre, Miss. Mathilde</td>\n",
       "      <td>female</td>\n",
       "      <td>NaN</td>\n",
       "      <td>3</td>\n",
       "      <td>1</td>\n",
       "      <td>4133</td>\n",
       "      <td>25.4667</td>\n",
       "      <td>NaN</td>\n",
       "      <td>S</td>\n",
       "      <td>?</td>\n",
       "      <td>Miss</td>\n",
       "      <td>Miss</td>\n",
       "      <td>Miss</td>\n",
       "    </tr>\n",
       "    <tr>\n",
       "      <th>236</th>\n",
       "      <td>0</td>\n",
       "      <td>3</td>\n",
       "      <td>Harknett, Miss. Alice Phoebe</td>\n",
       "      <td>female</td>\n",
       "      <td>NaN</td>\n",
       "      <td>0</td>\n",
       "      <td>0</td>\n",
       "      <td>W./C. 6609</td>\n",
       "      <td>7.5500</td>\n",
       "      <td>NaN</td>\n",
       "      <td>S</td>\n",
       "      <td>?</td>\n",
       "      <td>Miss</td>\n",
       "      <td>Miss</td>\n",
       "      <td>Miss</td>\n",
       "    </tr>\n",
       "    <tr>\n",
       "      <th>241</th>\n",
       "      <td>0</td>\n",
       "      <td>3</td>\n",
       "      <td>Zabour, Miss. Thamine</td>\n",
       "      <td>female</td>\n",
       "      <td>NaN</td>\n",
       "      <td>1</td>\n",
       "      <td>0</td>\n",
       "      <td>2665</td>\n",
       "      <td>14.4542</td>\n",
       "      <td>NaN</td>\n",
       "      <td>C</td>\n",
       "      <td>?</td>\n",
       "      <td>Miss</td>\n",
       "      <td>Miss</td>\n",
       "      <td>Miss</td>\n",
       "    </tr>\n",
       "    <tr>\n",
       "      <th>242</th>\n",
       "      <td>1</td>\n",
       "      <td>3</td>\n",
       "      <td>Murphy, Miss. Katherine \"Kate\"</td>\n",
       "      <td>female</td>\n",
       "      <td>NaN</td>\n",
       "      <td>1</td>\n",
       "      <td>0</td>\n",
       "      <td>367230</td>\n",
       "      <td>15.5000</td>\n",
       "      <td>NaN</td>\n",
       "      <td>Q</td>\n",
       "      <td>?</td>\n",
       "      <td>Miss</td>\n",
       "      <td>Miss</td>\n",
       "      <td>Miss</td>\n",
       "    </tr>\n",
       "    <tr>\n",
       "      <th>265</th>\n",
       "      <td>0</td>\n",
       "      <td>3</td>\n",
       "      <td>Henry, Miss. Delia</td>\n",
       "      <td>female</td>\n",
       "      <td>NaN</td>\n",
       "      <td>0</td>\n",
       "      <td>0</td>\n",
       "      <td>382649</td>\n",
       "      <td>7.7500</td>\n",
       "      <td>NaN</td>\n",
       "      <td>Q</td>\n",
       "      <td>?</td>\n",
       "      <td>Miss</td>\n",
       "      <td>Miss</td>\n",
       "      <td>Miss</td>\n",
       "    </tr>\n",
       "    <tr>\n",
       "      <th>275</th>\n",
       "      <td>1</td>\n",
       "      <td>3</td>\n",
       "      <td>Healy, Miss. Hanora \"Nora\"</td>\n",
       "      <td>female</td>\n",
       "      <td>NaN</td>\n",
       "      <td>0</td>\n",
       "      <td>0</td>\n",
       "      <td>370375</td>\n",
       "      <td>7.7500</td>\n",
       "      <td>NaN</td>\n",
       "      <td>Q</td>\n",
       "      <td>?</td>\n",
       "      <td>Miss</td>\n",
       "      <td>Miss</td>\n",
       "      <td>Miss</td>\n",
       "    </tr>\n",
       "    <tr>\n",
       "      <th>301</th>\n",
       "      <td>1</td>\n",
       "      <td>3</td>\n",
       "      <td>Kelly, Miss. Anna Katherine \"Annie Kate\"</td>\n",
       "      <td>female</td>\n",
       "      <td>NaN</td>\n",
       "      <td>0</td>\n",
       "      <td>0</td>\n",
       "      <td>9234</td>\n",
       "      <td>7.7500</td>\n",
       "      <td>NaN</td>\n",
       "      <td>Q</td>\n",
       "      <td>?</td>\n",
       "      <td>Miss</td>\n",
       "      <td>Miss</td>\n",
       "      <td>Miss</td>\n",
       "    </tr>\n",
       "    <tr>\n",
       "      <th>304</th>\n",
       "      <td>1</td>\n",
       "      <td>2</td>\n",
       "      <td>Keane, Miss. Nora A</td>\n",
       "      <td>female</td>\n",
       "      <td>NaN</td>\n",
       "      <td>0</td>\n",
       "      <td>0</td>\n",
       "      <td>226593</td>\n",
       "      <td>12.3500</td>\n",
       "      <td>E101</td>\n",
       "      <td>Q</td>\n",
       "      <td>E</td>\n",
       "      <td>Miss</td>\n",
       "      <td>Miss</td>\n",
       "      <td>Miss</td>\n",
       "    </tr>\n",
       "    <tr>\n",
       "      <th>307</th>\n",
       "      <td>1</td>\n",
       "      <td>1</td>\n",
       "      <td>Fleming, Miss. Margaret</td>\n",
       "      <td>female</td>\n",
       "      <td>NaN</td>\n",
       "      <td>0</td>\n",
       "      <td>0</td>\n",
       "      <td>17421</td>\n",
       "      <td>110.8833</td>\n",
       "      <td>NaN</td>\n",
       "      <td>C</td>\n",
       "      <td>?</td>\n",
       "      <td>Miss</td>\n",
       "      <td>Miss</td>\n",
       "      <td>Miss</td>\n",
       "    </tr>\n",
       "    <tr>\n",
       "      <th>331</th>\n",
       "      <td>1</td>\n",
       "      <td>3</td>\n",
       "      <td>McCoy, Miss. Agnes</td>\n",
       "      <td>female</td>\n",
       "      <td>NaN</td>\n",
       "      <td>2</td>\n",
       "      <td>0</td>\n",
       "      <td>367226</td>\n",
       "      <td>23.2500</td>\n",
       "      <td>NaN</td>\n",
       "      <td>Q</td>\n",
       "      <td>?</td>\n",
       "      <td>Miss</td>\n",
       "      <td>Miss</td>\n",
       "      <td>Miss</td>\n",
       "    </tr>\n",
       "    <tr>\n",
       "      <th>359</th>\n",
       "      <td>1</td>\n",
       "      <td>3</td>\n",
       "      <td>McGovern, Miss. Mary</td>\n",
       "      <td>female</td>\n",
       "      <td>NaN</td>\n",
       "      <td>0</td>\n",
       "      <td>0</td>\n",
       "      <td>330931</td>\n",
       "      <td>7.8792</td>\n",
       "      <td>NaN</td>\n",
       "      <td>Q</td>\n",
       "      <td>?</td>\n",
       "      <td>Miss</td>\n",
       "      <td>Miss</td>\n",
       "      <td>Miss</td>\n",
       "    </tr>\n",
       "    <tr>\n",
       "      <th>360</th>\n",
       "      <td>1</td>\n",
       "      <td>3</td>\n",
       "      <td>Mockler, Miss. Helen Mary \"Ellie\"</td>\n",
       "      <td>female</td>\n",
       "      <td>NaN</td>\n",
       "      <td>0</td>\n",
       "      <td>0</td>\n",
       "      <td>330980</td>\n",
       "      <td>7.8792</td>\n",
       "      <td>NaN</td>\n",
       "      <td>Q</td>\n",
       "      <td>?</td>\n",
       "      <td>Miss</td>\n",
       "      <td>Miss</td>\n",
       "      <td>Miss</td>\n",
       "    </tr>\n",
       "    <tr>\n",
       "      <th>369</th>\n",
       "      <td>1</td>\n",
       "      <td>3</td>\n",
       "      <td>Jermyn, Miss. Annie</td>\n",
       "      <td>female</td>\n",
       "      <td>NaN</td>\n",
       "      <td>0</td>\n",
       "      <td>0</td>\n",
       "      <td>14313</td>\n",
       "      <td>7.7500</td>\n",
       "      <td>NaN</td>\n",
       "      <td>Q</td>\n",
       "      <td>?</td>\n",
       "      <td>Miss</td>\n",
       "      <td>Miss</td>\n",
       "      <td>Miss</td>\n",
       "    </tr>\n",
       "    <tr>\n",
       "      <th>410</th>\n",
       "      <td>0</td>\n",
       "      <td>3</td>\n",
       "      <td>Lefebre, Miss. Ida</td>\n",
       "      <td>female</td>\n",
       "      <td>NaN</td>\n",
       "      <td>3</td>\n",
       "      <td>1</td>\n",
       "      <td>4133</td>\n",
       "      <td>25.4667</td>\n",
       "      <td>NaN</td>\n",
       "      <td>S</td>\n",
       "      <td>?</td>\n",
       "      <td>Miss</td>\n",
       "      <td>Miss</td>\n",
       "      <td>Miss</td>\n",
       "    </tr>\n",
       "    <tr>\n",
       "      <th>486</th>\n",
       "      <td>0</td>\n",
       "      <td>3</td>\n",
       "      <td>Lefebre, Miss. Jeannie</td>\n",
       "      <td>female</td>\n",
       "      <td>NaN</td>\n",
       "      <td>3</td>\n",
       "      <td>1</td>\n",
       "      <td>4133</td>\n",
       "      <td>25.4667</td>\n",
       "      <td>NaN</td>\n",
       "      <td>S</td>\n",
       "      <td>?</td>\n",
       "      <td>Miss</td>\n",
       "      <td>Miss</td>\n",
       "      <td>Miss</td>\n",
       "    </tr>\n",
       "    <tr>\n",
       "      <th>503</th>\n",
       "      <td>0</td>\n",
       "      <td>3</td>\n",
       "      <td>O'Sullivan, Miss. Bridget Mary</td>\n",
       "      <td>female</td>\n",
       "      <td>NaN</td>\n",
       "      <td>0</td>\n",
       "      <td>0</td>\n",
       "      <td>330909</td>\n",
       "      <td>7.6292</td>\n",
       "      <td>NaN</td>\n",
       "      <td>Q</td>\n",
       "      <td>?</td>\n",
       "      <td>Miss</td>\n",
       "      <td>Miss</td>\n",
       "      <td>Miss</td>\n",
       "    </tr>\n",
       "    <tr>\n",
       "      <th>565</th>\n",
       "      <td>0</td>\n",
       "      <td>3</td>\n",
       "      <td>Meanwell, Miss. (Marion Ogden)</td>\n",
       "      <td>female</td>\n",
       "      <td>NaN</td>\n",
       "      <td>0</td>\n",
       "      <td>0</td>\n",
       "      <td>SOTON/O.Q. 392087</td>\n",
       "      <td>8.0500</td>\n",
       "      <td>NaN</td>\n",
       "      <td>S</td>\n",
       "      <td>?</td>\n",
       "      <td>Miss</td>\n",
       "      <td>Miss</td>\n",
       "      <td>Miss</td>\n",
       "    </tr>\n",
       "    <tr>\n",
       "      <th>574</th>\n",
       "      <td>1</td>\n",
       "      <td>3</td>\n",
       "      <td>Kelly, Miss. Mary</td>\n",
       "      <td>female</td>\n",
       "      <td>NaN</td>\n",
       "      <td>0</td>\n",
       "      <td>0</td>\n",
       "      <td>14312</td>\n",
       "      <td>7.7500</td>\n",
       "      <td>NaN</td>\n",
       "      <td>Q</td>\n",
       "      <td>?</td>\n",
       "      <td>Miss</td>\n",
       "      <td>Miss</td>\n",
       "      <td>Miss</td>\n",
       "    </tr>\n",
       "    <tr>\n",
       "      <th>594</th>\n",
       "      <td>0</td>\n",
       "      <td>3</td>\n",
       "      <td>Bourke, Miss. Mary</td>\n",
       "      <td>female</td>\n",
       "      <td>NaN</td>\n",
       "      <td>0</td>\n",
       "      <td>2</td>\n",
       "      <td>364848</td>\n",
       "      <td>7.7500</td>\n",
       "      <td>NaN</td>\n",
       "      <td>Q</td>\n",
       "      <td>?</td>\n",
       "      <td>Miss</td>\n",
       "      <td>Miss</td>\n",
       "      <td>Miss</td>\n",
       "    </tr>\n",
       "    <tr>\n",
       "      <th>597</th>\n",
       "      <td>1</td>\n",
       "      <td>2</td>\n",
       "      <td>Leitch, Miss. Jessie Wills</td>\n",
       "      <td>female</td>\n",
       "      <td>NaN</td>\n",
       "      <td>0</td>\n",
       "      <td>0</td>\n",
       "      <td>248727</td>\n",
       "      <td>33.0000</td>\n",
       "      <td>NaN</td>\n",
       "      <td>S</td>\n",
       "      <td>?</td>\n",
       "      <td>Miss</td>\n",
       "      <td>Miss</td>\n",
       "      <td>Miss</td>\n",
       "    </tr>\n",
       "    <tr>\n",
       "      <th>613</th>\n",
       "      <td>1</td>\n",
       "      <td>3</td>\n",
       "      <td>Murphy, Miss. Margaret Jane</td>\n",
       "      <td>female</td>\n",
       "      <td>NaN</td>\n",
       "      <td>1</td>\n",
       "      <td>0</td>\n",
       "      <td>367230</td>\n",
       "      <td>15.5000</td>\n",
       "      <td>NaN</td>\n",
       "      <td>Q</td>\n",
       "      <td>?</td>\n",
       "      <td>Miss</td>\n",
       "      <td>Miss</td>\n",
       "      <td>Miss</td>\n",
       "    </tr>\n",
       "    <tr>\n",
       "      <th>654</th>\n",
       "      <td>1</td>\n",
       "      <td>3</td>\n",
       "      <td>O'Leary, Miss. Hanora \"Norah\"</td>\n",
       "      <td>female</td>\n",
       "      <td>NaN</td>\n",
       "      <td>0</td>\n",
       "      <td>0</td>\n",
       "      <td>330919</td>\n",
       "      <td>7.8292</td>\n",
       "      <td>NaN</td>\n",
       "      <td>Q</td>\n",
       "      <td>?</td>\n",
       "      <td>Miss</td>\n",
       "      <td>Miss</td>\n",
       "      <td>Miss</td>\n",
       "    </tr>\n",
       "    <tr>\n",
       "      <th>681</th>\n",
       "      <td>0</td>\n",
       "      <td>3</td>\n",
       "      <td>Peters, Miss. Katie</td>\n",
       "      <td>female</td>\n",
       "      <td>NaN</td>\n",
       "      <td>0</td>\n",
       "      <td>0</td>\n",
       "      <td>330935</td>\n",
       "      <td>8.1375</td>\n",
       "      <td>NaN</td>\n",
       "      <td>Q</td>\n",
       "      <td>?</td>\n",
       "      <td>Miss</td>\n",
       "      <td>Miss</td>\n",
       "      <td>Miss</td>\n",
       "    </tr>\n",
       "    <tr>\n",
       "      <th>698</th>\n",
       "      <td>1</td>\n",
       "      <td>3</td>\n",
       "      <td>Mullens, Miss. Katherine \"Katie\"</td>\n",
       "      <td>female</td>\n",
       "      <td>NaN</td>\n",
       "      <td>0</td>\n",
       "      <td>0</td>\n",
       "      <td>35852</td>\n",
       "      <td>7.7333</td>\n",
       "      <td>NaN</td>\n",
       "      <td>Q</td>\n",
       "      <td>?</td>\n",
       "      <td>Miss</td>\n",
       "      <td>Miss</td>\n",
       "      <td>Miss</td>\n",
       "    </tr>\n",
       "    <tr>\n",
       "      <th>728</th>\n",
       "      <td>1</td>\n",
       "      <td>3</td>\n",
       "      <td>Mannion, Miss. Margareth</td>\n",
       "      <td>female</td>\n",
       "      <td>NaN</td>\n",
       "      <td>0</td>\n",
       "      <td>0</td>\n",
       "      <td>36866</td>\n",
       "      <td>7.7375</td>\n",
       "      <td>NaN</td>\n",
       "      <td>Q</td>\n",
       "      <td>?</td>\n",
       "      <td>Miss</td>\n",
       "      <td>Miss</td>\n",
       "      <td>Miss</td>\n",
       "    </tr>\n",
       "    <tr>\n",
       "      <th>793</th>\n",
       "      <td>0</td>\n",
       "      <td>3</td>\n",
       "      <td>Sage, Miss. Stella Anna</td>\n",
       "      <td>female</td>\n",
       "      <td>NaN</td>\n",
       "      <td>8</td>\n",
       "      <td>2</td>\n",
       "      <td>CA. 2343</td>\n",
       "      <td>69.5500</td>\n",
       "      <td>NaN</td>\n",
       "      <td>S</td>\n",
       "      <td>?</td>\n",
       "      <td>Miss</td>\n",
       "      <td>Miss</td>\n",
       "      <td>Miss</td>\n",
       "    </tr>\n",
       "    <tr>\n",
       "      <th>864</th>\n",
       "      <td>0</td>\n",
       "      <td>3</td>\n",
       "      <td>Sage, Miss. Dorothy Edith \"Dolly\"</td>\n",
       "      <td>female</td>\n",
       "      <td>NaN</td>\n",
       "      <td>8</td>\n",
       "      <td>2</td>\n",
       "      <td>CA. 2343</td>\n",
       "      <td>69.5500</td>\n",
       "      <td>NaN</td>\n",
       "      <td>S</td>\n",
       "      <td>?</td>\n",
       "      <td>Miss</td>\n",
       "      <td>Miss</td>\n",
       "      <td>Miss</td>\n",
       "    </tr>\n",
       "    <tr>\n",
       "      <th>889</th>\n",
       "      <td>0</td>\n",
       "      <td>3</td>\n",
       "      <td>Johnston, Miss. Catherine Helen \"Carrie\"</td>\n",
       "      <td>female</td>\n",
       "      <td>NaN</td>\n",
       "      <td>1</td>\n",
       "      <td>2</td>\n",
       "      <td>W./C. 6607</td>\n",
       "      <td>23.4500</td>\n",
       "      <td>NaN</td>\n",
       "      <td>S</td>\n",
       "      <td>?</td>\n",
       "      <td>Miss</td>\n",
       "      <td>Miss</td>\n",
       "      <td>Miss</td>\n",
       "    </tr>\n",
       "  </tbody>\n",
       "</table>\n",
       "</div>"
      ],
      "text/plain": [
       "             Survived  Pclass                                      Name  \\\n",
       "PassengerId                                                               \n",
       "29                  1       3             O'Dwyer, Miss. Ellen \"Nellie\"   \n",
       "33                  1       3                  Glynn, Miss. Mary Agatha   \n",
       "48                  1       3                 O'Driscoll, Miss. Bridget   \n",
       "83                  1       3            McDermott, Miss. Brigdet Delia   \n",
       "110                 1       3                       Moran, Miss. Bertha   \n",
       "129                 1       3                         Peter, Miss. Anna   \n",
       "181                 0       3              Sage, Miss. Constance Gladys   \n",
       "199                 1       3          Madigan, Miss. Margaret \"Maggie\"   \n",
       "230                 0       3                   Lefebre, Miss. Mathilde   \n",
       "236                 0       3              Harknett, Miss. Alice Phoebe   \n",
       "241                 0       3                     Zabour, Miss. Thamine   \n",
       "242                 1       3            Murphy, Miss. Katherine \"Kate\"   \n",
       "265                 0       3                        Henry, Miss. Delia   \n",
       "275                 1       3                Healy, Miss. Hanora \"Nora\"   \n",
       "301                 1       3  Kelly, Miss. Anna Katherine \"Annie Kate\"   \n",
       "304                 1       2                       Keane, Miss. Nora A   \n",
       "307                 1       1                   Fleming, Miss. Margaret   \n",
       "331                 1       3                        McCoy, Miss. Agnes   \n",
       "359                 1       3                      McGovern, Miss. Mary   \n",
       "360                 1       3         Mockler, Miss. Helen Mary \"Ellie\"   \n",
       "369                 1       3                       Jermyn, Miss. Annie   \n",
       "410                 0       3                        Lefebre, Miss. Ida   \n",
       "486                 0       3                    Lefebre, Miss. Jeannie   \n",
       "503                 0       3            O'Sullivan, Miss. Bridget Mary   \n",
       "565                 0       3            Meanwell, Miss. (Marion Ogden)   \n",
       "574                 1       3                         Kelly, Miss. Mary   \n",
       "594                 0       3                        Bourke, Miss. Mary   \n",
       "597                 1       2                Leitch, Miss. Jessie Wills   \n",
       "613                 1       3               Murphy, Miss. Margaret Jane   \n",
       "654                 1       3             O'Leary, Miss. Hanora \"Norah\"   \n",
       "681                 0       3                       Peters, Miss. Katie   \n",
       "698                 1       3          Mullens, Miss. Katherine \"Katie\"   \n",
       "728                 1       3                  Mannion, Miss. Margareth   \n",
       "793                 0       3                   Sage, Miss. Stella Anna   \n",
       "864                 0       3         Sage, Miss. Dorothy Edith \"Dolly\"   \n",
       "889                 0       3  Johnston, Miss. Catherine Helen \"Carrie\"   \n",
       "\n",
       "                Sex  Age  SibSp  Parch             Ticket      Fare  Cabin  \\\n",
       "PassengerId                                                                  \n",
       "29           female  NaN      0      0             330959    7.8792    NaN   \n",
       "33           female  NaN      0      0             335677    7.7500    NaN   \n",
       "48           female  NaN      0      0              14311    7.7500    NaN   \n",
       "83           female  NaN      0      0             330932    7.7875    NaN   \n",
       "110          female  NaN      1      0             371110   24.1500    NaN   \n",
       "129          female  NaN      1      1               2668   22.3583  F E69   \n",
       "181          female  NaN      8      2           CA. 2343   69.5500    NaN   \n",
       "199          female  NaN      0      0             370370    7.7500    NaN   \n",
       "230          female  NaN      3      1               4133   25.4667    NaN   \n",
       "236          female  NaN      0      0         W./C. 6609    7.5500    NaN   \n",
       "241          female  NaN      1      0               2665   14.4542    NaN   \n",
       "242          female  NaN      1      0             367230   15.5000    NaN   \n",
       "265          female  NaN      0      0             382649    7.7500    NaN   \n",
       "275          female  NaN      0      0             370375    7.7500    NaN   \n",
       "301          female  NaN      0      0               9234    7.7500    NaN   \n",
       "304          female  NaN      0      0             226593   12.3500   E101   \n",
       "307          female  NaN      0      0              17421  110.8833    NaN   \n",
       "331          female  NaN      2      0             367226   23.2500    NaN   \n",
       "359          female  NaN      0      0             330931    7.8792    NaN   \n",
       "360          female  NaN      0      0             330980    7.8792    NaN   \n",
       "369          female  NaN      0      0              14313    7.7500    NaN   \n",
       "410          female  NaN      3      1               4133   25.4667    NaN   \n",
       "486          female  NaN      3      1               4133   25.4667    NaN   \n",
       "503          female  NaN      0      0             330909    7.6292    NaN   \n",
       "565          female  NaN      0      0  SOTON/O.Q. 392087    8.0500    NaN   \n",
       "574          female  NaN      0      0              14312    7.7500    NaN   \n",
       "594          female  NaN      0      2             364848    7.7500    NaN   \n",
       "597          female  NaN      0      0             248727   33.0000    NaN   \n",
       "613          female  NaN      1      0             367230   15.5000    NaN   \n",
       "654          female  NaN      0      0             330919    7.8292    NaN   \n",
       "681          female  NaN      0      0             330935    8.1375    NaN   \n",
       "698          female  NaN      0      0              35852    7.7333    NaN   \n",
       "728          female  NaN      0      0              36866    7.7375    NaN   \n",
       "793          female  NaN      8      2           CA. 2343   69.5500    NaN   \n",
       "864          female  NaN      8      2           CA. 2343   69.5500    NaN   \n",
       "889          female  NaN      1      2         W./C. 6607   23.4500    NaN   \n",
       "\n",
       "            Embarked Deck TitleF TitleS   MWC  \n",
       "PassengerId                                    \n",
       "29                 Q    ?   Miss   Miss  Miss  \n",
       "33                 Q    ?   Miss   Miss  Miss  \n",
       "48                 Q    ?   Miss   Miss  Miss  \n",
       "83                 Q    ?   Miss   Miss  Miss  \n",
       "110                Q    ?   Miss   Miss  Miss  \n",
       "129                C    F   Miss   Miss  Miss  \n",
       "181                S    ?   Miss   Miss  Miss  \n",
       "199                Q    ?   Miss   Miss  Miss  \n",
       "230                S    ?   Miss   Miss  Miss  \n",
       "236                S    ?   Miss   Miss  Miss  \n",
       "241                C    ?   Miss   Miss  Miss  \n",
       "242                Q    ?   Miss   Miss  Miss  \n",
       "265                Q    ?   Miss   Miss  Miss  \n",
       "275                Q    ?   Miss   Miss  Miss  \n",
       "301                Q    ?   Miss   Miss  Miss  \n",
       "304                Q    E   Miss   Miss  Miss  \n",
       "307                C    ?   Miss   Miss  Miss  \n",
       "331                Q    ?   Miss   Miss  Miss  \n",
       "359                Q    ?   Miss   Miss  Miss  \n",
       "360                Q    ?   Miss   Miss  Miss  \n",
       "369                Q    ?   Miss   Miss  Miss  \n",
       "410                S    ?   Miss   Miss  Miss  \n",
       "486                S    ?   Miss   Miss  Miss  \n",
       "503                Q    ?   Miss   Miss  Miss  \n",
       "565                S    ?   Miss   Miss  Miss  \n",
       "574                Q    ?   Miss   Miss  Miss  \n",
       "594                Q    ?   Miss   Miss  Miss  \n",
       "597                S    ?   Miss   Miss  Miss  \n",
       "613                Q    ?   Miss   Miss  Miss  \n",
       "654                Q    ?   Miss   Miss  Miss  \n",
       "681                Q    ?   Miss   Miss  Miss  \n",
       "698                Q    ?   Miss   Miss  Miss  \n",
       "728                Q    ?   Miss   Miss  Miss  \n",
       "793                S    ?   Miss   Miss  Miss  \n",
       "864                S    ?   Miss   Miss  Miss  \n",
       "889                S    ?   Miss   Miss  Miss  "
      ]
     },
     "execution_count": 19,
     "metadata": {},
     "output_type": "execute_result"
    }
   ],
   "source": [
    "# Mask the Misses without ages\n",
    "titanic_df[(titanic_df['MWC'] == 'Miss')]"
   ]
  },
  {
   "cell_type": "code",
   "execution_count": 20,
   "metadata": {
    "collapsed": false
   },
   "outputs": [
    {
     "data": {
      "text/plain": [
       "PassengerId\n",
       "29     Miss\n",
       "33     Miss\n",
       "48     Miss\n",
       "83     Miss\n",
       "110    Miss\n",
       "129    Miss\n",
       "181    Miss\n",
       "199    Miss\n",
       "230    Miss\n",
       "236    Miss\n",
       "241    Miss\n",
       "242    Miss\n",
       "265    Miss\n",
       "275    Miss\n",
       "301    Miss\n",
       "304    Miss\n",
       "307    Miss\n",
       "331    Miss\n",
       "359    Miss\n",
       "360    Miss\n",
       "369    Miss\n",
       "410    Miss\n",
       "486    Miss\n",
       "503    Miss\n",
       "565    Miss\n",
       "574    Miss\n",
       "594    Miss\n",
       "597    Miss\n",
       "613    Miss\n",
       "654    Miss\n",
       "681    Miss\n",
       "698    Miss\n",
       "728    Miss\n",
       "793    Miss\n",
       "864    Miss\n",
       "889    Miss\n",
       "Name: MWC, dtype: object"
      ]
     },
     "execution_count": 20,
     "metadata": {},
     "output_type": "execute_result"
    }
   ],
   "source": [
    "# loc the Misses without ages\n",
    "titanic_df['MWC'].loc[(titanic_df.MWC == 'Miss')]"
   ]
  },
  {
   "cell_type": "code",
   "execution_count": null,
   "metadata": {
    "collapsed": false
   },
   "outputs": [],
   "source": []
  },
  {
   "cell_type": "markdown",
   "metadata": {},
   "source": [
    "## 3. Browsing the Data"
   ]
  },
  {
   "cell_type": "markdown",
   "metadata": {},
   "source": [
    "Before we can see if any factors contribute to surviving the Titanic disaster; we'll explore the data. In this stage of the data analysis process we are looking for **trends**; not values."
   ]
  },
  {
   "cell_type": "markdown",
   "metadata": {},
   "source": [
    "### 3.1. Browsing the Data: Passenger Class"
   ]
  },
  {
   "cell_type": "code",
   "execution_count": null,
   "metadata": {
    "collapsed": false
   },
   "outputs": [],
   "source": [
    "# Titanic passneger class distribution\n",
    "sns.countplot(x='Pclass', data=titanic_df)\n",
    "plt.xlabel('Passenger Class')\n",
    "plt.ylabel('Passengers')\n",
    "plt.show()"
   ]
  },
  {
   "cell_type": "markdown",
   "metadata": {},
   "source": [
    "Here you can see  a histogram of how many passengers were in each class. First class and second class had about the same number of people, however third class had more than double the amount of passengers than first or second class\n",
    "\n",
    "First class list was a \"who's who\" of the rich and prominent of the upper class.\n",
    "\n",
    "Second class' passengers were leisure tourists, academics, members of the clergy and middle class English and American families.\n",
    "\n",
    "The third class (or steerage) passengers left hoping to start new lives in the United States and Canada.\n",
    "\n",
    "Titanic passenger class was  also an indicator of socio-economic status."
   ]
  },
  {
   "cell_type": "markdown",
   "metadata": {},
   "source": [
    "### 3.2. Browsing the Data: Sex"
   ]
  },
  {
   "cell_type": "code",
   "execution_count": null,
   "metadata": {
    "collapsed": false
   },
   "outputs": [],
   "source": [
    "# Plot showing distribution of males and females by passenger class\n",
    "sns.countplot(x='Pclass', hue='Sex', data=titanic_df)\n",
    "plt.xlabel('Passenger Class')\n",
    "plt.ylabel('Passengers')\n",
    "plt.show()"
   ]
  },
  {
   "cell_type": "markdown",
   "metadata": {},
   "source": [
    "The plot above shows the density of females and males in the different passenger classes. The amount of males and females is nearly the same on first and second class. However, third class has many more males than females. Since third class passengers were mostly immigrants searching for a new life, it would make sense that there could be more 'single men' off to America to start a new life."
   ]
  },
  {
   "cell_type": "code",
   "execution_count": null,
   "metadata": {
    "collapsed": false
   },
   "outputs": [],
   "source": [
    "# Passenger age distrbution of both sexes\n",
    "titanic_df.groupby('Sex').Age.plot(kind='density', title='Passenger Age Distribution\\nBy Sex')\n",
    "plt.legend(['Female', 'Male'])\n",
    "plt.show()"
   ]
  },
  {
   "cell_type": "markdown",
   "metadata": {},
   "source": [
    "The above density chart shows that there was a higher density of males between the ages of 20-30 then that of female. Since the theoretical population of sex should be split 50/50 between males and females; the above two visualizations would indicate that there was a higher amount of single young adult males  on board the Titanic sailing to the new world to find a new life. Most of those passengers resided in third class."
   ]
  },
  {
   "cell_type": "markdown",
   "metadata": {},
   "source": [
    "### 3.3. Browsing the Data: Age"
   ]
  },
  {
   "cell_type": "code",
   "execution_count": null,
   "metadata": {
    "collapsed": false
   },
   "outputs": [],
   "source": [
    "# Passenger age distrbution of passenger class\n",
    "titanic_df.groupby('Pclass').Age.plot(kind='kde', legend=True, title='Age Distribution \\n Passenger Classes')\n",
    "plt.legend(['First Class', 'Second Class', 'Third Class'])\n",
    "plt.show()"
   ]
  },
  {
   "cell_type": "markdown",
   "metadata": {},
   "source": [
    "This shows the density of ages of males and females  when looking at all passengers."
   ]
  },
  {
   "cell_type": "code",
   "execution_count": null,
   "metadata": {
    "collapsed": false
   },
   "outputs": [],
   "source": [
    "titanic_df.groupby('Pclass').Age.plot(kind='hist', alpha=0.5, legend=True, title='Age Distribution \\n Passenger Classes')\n",
    "plt.legend(['First Class', 'Second Class', 'Third Class'])\n",
    "plt.show()"
   ]
  },
  {
   "cell_type": "markdown",
   "metadata": {},
   "source": [
    "The charts above shows the density of passenger age in all three classes, followed by a histogram showing the same. First class is the 'oldest' cohort. Second class is in the middle of age density. Third class is the youngest cohort. \n",
    "\n",
    "This is an example that shows an instance where a density plot is easier to comprehend as compared to a histogram. "
   ]
  },
  {
   "cell_type": "markdown",
   "metadata": {},
   "source": [
    "### 3.4. Browsing the Data: Family Relationships-Parents/Children"
   ]
  },
  {
   "cell_type": "code",
   "execution_count": null,
   "metadata": {
    "collapsed": false
   },
   "outputs": [],
   "source": [
    "# Plot showing counts of PArch category\n",
    "sns.countplot(x='Parch', data=titanic_df)\n",
    "plt.xlabel('Number of Parents/Children Aboard')\n",
    "plt.ylabel('Passengers')\n",
    "plt.show()"
   ]
  },
  {
   "cell_type": "markdown",
   "metadata": {},
   "source": [
    "The Titanic Data has the column 'Parch' to show family relationship by identifyin the number of parents/children aboard. As you can see, the higher number of '0' indicates that the majority of Titanic passengers were traveling without a family."
   ]
  },
  {
   "cell_type": "markdown",
   "metadata": {},
   "source": [
    "### 3.5. Browsing the Data: Family Relationships-Siblings/Spouse"
   ]
  },
  {
   "cell_type": "code",
   "execution_count": null,
   "metadata": {
    "collapsed": false
   },
   "outputs": [],
   "source": [
    "# Plot showing counts of SibSp column\n",
    "sns.countplot(x='SibSp', data=titanic_df)\n",
    "plt.xlabel('Numer of Siblings/Spouses Aboard')\n",
    "plt.ylabel('Passengers')\n",
    "labels = ['sdf', 'sdfsd']\n",
    "plt.show()"
   ]
  },
  {
   "cell_type": "markdown",
   "metadata": {},
   "source": [
    "The Titanic Data has the column 'SibSP' to define family relationships as well. This column indicates the number of siblings/spouses aboard. This indicates that the majority of passengers were traveling alone. The second largest column of '1' would indicates that there was quite a bit of family 'pairs' on board; meaning husband/wife or sibling/sibling."
   ]
  },
  {
   "cell_type": "markdown",
   "metadata": {},
   "source": [
    "### 3.6. Browsing the Data: Port of Embarkation"
   ]
  },
  {
   "cell_type": "code",
   "execution_count": null,
   "metadata": {
    "collapsed": false
   },
   "outputs": [],
   "source": [
    "# Plot showing counts of embarked column\n",
    "sns.countplot(x='Embarked', data=titanic_df)\n",
    "plt.xlabel('Port of Embarkation')\n",
    "plt.ylabel('Passengers')\n",
    "plt.show()"
   ]
  },
  {
   "cell_type": "markdown",
   "metadata": {},
   "source": [
    "The plot above shows the count of those from each Port of Embarkation. This chart the majority of passengers embarked from Southhampton."
   ]
  },
  {
   "cell_type": "code",
   "execution_count": null,
   "metadata": {
    "collapsed": false
   },
   "outputs": [],
   "source": [
    "# Plot countplot of Sex by Embarked\n",
    "sns.countplot(x='Sex', hue='Embarked', data=titanic_df)\n",
    "plt.xlabel('Sex by Port of Embarkation')\n",
    "plt.ylabel('Passengers')\n",
    "plt.show()"
   ]
  },
  {
   "cell_type": "markdown",
   "metadata": {},
   "source": [
    "The above plot shows that a majority of those who embarked from Southampton were males."
   ]
  },
  {
   "cell_type": "code",
   "execution_count": null,
   "metadata": {
    "collapsed": false
   },
   "outputs": [],
   "source": [
    "# Plot countplot of Sex by Embarked\n",
    "sns.countplot(x='Pclass', hue='Embarked', data=titanic_df)\n",
    "plt.xlabel('Passenger Class by Port of Embarkation')\n",
    "plt.ylabel('Passengers')\n",
    "plt.show()"
   ]
  },
  {
   "cell_type": "markdown",
   "metadata": {},
   "source": [
    "The above chart shows that there is a significantly higher number of second and third class passengers who embarked from Southampton."
   ]
  },
  {
   "cell_type": "markdown",
   "metadata": {},
   "source": [
    "### 3.7. Browsing the Data: Deck"
   ]
  },
  {
   "cell_type": "code",
   "execution_count": null,
   "metadata": {
    "collapsed": false
   },
   "outputs": [],
   "source": [
    "# Plot showing counts of Decks by Pclass column\n",
    "sns.countplot(x='Pclass', hue='Deck', data=titanic_df)\n",
    "plt.xlabel('Passenger Class')\n",
    "plt.ylabel('Passengers')\n",
    "plt.show()"
   ]
  },
  {
   "cell_type": "markdown",
   "metadata": {},
   "source": [
    "The above count plot shows the number of passengers with a deck assignment by passenger class. You can see that the majority of passengers with available deck assignments are first class passengers."
   ]
  },
  {
   "cell_type": "markdown",
   "metadata": {
    "collapsed": true
   },
   "source": [
    "### 3.8. Browsing the Data: Fare"
   ]
  },
  {
   "cell_type": "code",
   "execution_count": null,
   "metadata": {
    "collapsed": false
   },
   "outputs": [],
   "source": [
    "titanic_df.Fare.plot(kind='hist', bins=10, title='Fares\\nPassenger Class')\n",
    "plt.xlabel('Passengers')\n",
    "plt.ylabel('Fare Price (GBP)')\n",
    "plt.show()"
   ]
  },
  {
   "cell_type": "markdown",
   "metadata": {},
   "source": [
    "The above histogram of fares paid by passengers. It's not very conclusive, but it shows that around 50 passengers paid _considerably_ more for their fare than most passengers. Let's use another visualization to try and get a better idea of what passengers paid for their tickets."
   ]
  },
  {
   "cell_type": "code",
   "execution_count": null,
   "metadata": {
    "collapsed": false
   },
   "outputs": [],
   "source": [
    "titanic_df.Fare.plot(kind='density', title='Fares\\nPassenger Class')\n",
    "plt.xlabel('Passengers')\n",
    "plt.ylabel('Density')\n",
    "plt.show()"
   ]
  },
  {
   "cell_type": "markdown",
   "metadata": {},
   "source": [
    "The density plot above confirms what we saw in the histogram; that a small portion of the titanic passengers paid an exorbanent fare for their tickets; while the rest of the passengers paid significantly less. Let's try to break this down by passenger class to get a better picture."
   ]
  },
  {
   "cell_type": "code",
   "execution_count": null,
   "metadata": {
    "collapsed": false
   },
   "outputs": [],
   "source": [
    "# Plot showing the mean fare price of each passenger class\n",
    "titanic_df.groupby('Pclass').Fare.mean().plot(kind='bar', title='Mean Fares\\nPassenger Class')\n",
    "plt.xlabel('Passenger Class')\n",
    "plt.ylabel('Fare Price (GBP)')\n",
    "plt.show()"
   ]
  },
  {
   "cell_type": "markdown",
   "metadata": {},
   "source": [
    "The above bar chart shows the mean price passengers paid per passenger class. It is no surprise that first class paid more money than second and third class passengers. Surprisingly, first class paid **much** More money for their tickets than second/third classes. Also, second and third class fare prices are more similar in price as compared to the _very high_ first class fares.\n",
    "\n",
    "This seems to confirm with the notion that Titanic passenger class was truly a proxy for socio-economic status. It is especially a reflection of the socio-economic patterns in the Guilded Age, where there was a signifigant higher level of lower income individuals as compared to modern day society.\n",
    "\n",
    "Since the fare price is already reflected in the passenger class as a measure of socio-econoimic status; we won't be factoring it in the analysis. We'll simply use passenger class."
   ]
  },
  {
   "cell_type": "markdown",
   "metadata": {},
   "source": [
    "## 4. Exploring the Data: Survivalship"
   ]
  },
  {
   "cell_type": "markdown",
   "metadata": {},
   "source": [
    "In this section, survialship will be presented  across a the factors of passenger class, sex, and age.\n",
    "\n",
    "We'll do this by grouping  the different columns in the dataset by the mean of the survivorship column. Since the survivorship column is essentially a boolean variable with 0=victim and 1=survivor. Thus, a mean of those would  be a probability of survivorship."
   ]
  },
  {
   "cell_type": "markdown",
   "metadata": {},
   "source": [
    "### 4.a. Exploring the Data: Survivalship by Passenger Class"
   ]
  },
  {
   "cell_type": "code",
   "execution_count": null,
   "metadata": {
    "collapsed": false,
    "scrolled": false
   },
   "outputs": [],
   "source": [
    "# Plot rate of survival by passenger class\n",
    "ax = titanic_df.groupby('Pclass').Survived.mean().plot(kind='bar', title='Rate of Survival\\nPassenger Class')\n",
    "ax.set(xlabel='Passenger Class', ylabel='Survival Probability')\n",
    "plt.show()"
   ]
  },
  {
   "cell_type": "markdown",
   "metadata": {},
   "source": [
    "The plot above shows distribution of survivlship based on passenger class.  First class had the highest survivalship density, followed by second class, then third class. This could possibly be due to the much higher density of males in third class than females."
   ]
  },
  {
   "cell_type": "markdown",
   "metadata": {},
   "source": [
    "### 4.b. Exploring the Data: Survivalship by Sex"
   ]
  },
  {
   "cell_type": "code",
   "execution_count": null,
   "metadata": {
    "collapsed": false,
    "scrolled": false
   },
   "outputs": [],
   "source": [
    "# Plotting survivalship based on sex\n",
    "ax = titanic_df.groupby('Sex').Survived.mean().plot(kind='bar', title='Rate of Survival\\nSex')\n",
    "ax.set(xlabel='Sex', ylabel='Survival Probability')\n",
    "plt.show()"
   ]
  },
  {
   "cell_type": "markdown",
   "metadata": {},
   "source": [
    "The above plot shows females had a **much** higher survivalship rates than males. "
   ]
  },
  {
   "cell_type": "markdown",
   "metadata": {},
   "source": [
    "### 4.c. Exploring the Data: Survivalship by Age"
   ]
  },
  {
   "cell_type": "code",
   "execution_count": null,
   "metadata": {
    "collapsed": false
   },
   "outputs": [],
   "source": [
    "# Plot rate of survival by age\n",
    "ax = titanic_df.groupby('Age').Survived.mean().plot(kind='line', title='Rate of Survival\\nAge')\n",
    "ax.set(xlabel='Age', ylabel='Survival Probability')\n",
    "plt.show()"
   ]
  },
  {
   "cell_type": "markdown",
   "metadata": {},
   "source": [
    "The above line chart shows survivalship based on age. It's extremely hard to read. Thus, even if it was conclusive, we couldn't tell. So, we'll look at it using another method below:"
   ]
  },
  {
   "cell_type": "code",
   "execution_count": null,
   "metadata": {
    "collapsed": false
   },
   "outputs": [],
   "source": [
    "# This histogram shows the survivalship based on age\n",
    "titanic_df.groupby('Survived').Age.plot(kind='hist', bins=20, alpha=0.7, title='Frequency of Survival\\nAge')\n",
    "plt.legend(['Victim', 'Survived'])\n",
    "plt.xlabel('Age')\n",
    "plt.ylabel('Frequency')\n",
    "plt.show()"
   ]
  },
  {
   "cell_type": "markdown",
   "metadata": {},
   "source": [
    "The histogram above is a little bit easier to read than the line chart. This is because it places groups of data in 'bins' rather than a single point. We can start to see a trend with survivalship rates higher with people under the age of 20. However, let's look at it again with another method to see if the trend appears stronger:"
   ]
  },
  {
   "cell_type": "code",
   "execution_count": null,
   "metadata": {
    "collapsed": false
   },
   "outputs": [],
   "source": [
    "# This plot shows the density of survivalship based on age\n",
    "titanic_df.groupby('Survived').Age.plot(kind='kde', title='Density of Survivalship\\nAge')\n",
    "plt.legend(['Victim', 'Survived'])\n",
    "plt.xlabel('Age')\n",
    "plt.ylabel('Density')\n",
    "plt.show()"
   ]
  },
  {
   "cell_type": "markdown",
   "metadata": {},
   "source": [
    "Above shows a density plot showing the density of survivors and victims based on age. It's a bit easier to comprehend because it removes the bins of a historgram. We can clearly see the abnormal 'hump' in the density of survivors in childhood years.\n",
    "\n",
    "Being that the definition of a 'child' and 'adult' is a bit subjective (evidence from Titanic survivors indicate that childness was relative to class), **and** not all of our data has ages, no concrete analysis will be completed regarding age. Passenger ages on the Titanic are fun to look at, but not necesarily have the ability for concrete analysis. Perhaps if all the passenger data included age, more analysis could be conducted. However, for the scope of this excersize analysis based on age will be ignored."
   ]
  },
  {
   "cell_type": "markdown",
   "metadata": {},
   "source": [
    "### 4.d. Exploring the Data:  Survivalship by Family Relationships-Parents/Children"
   ]
  },
  {
   "cell_type": "code",
   "execution_count": null,
   "metadata": {
    "collapsed": false
   },
   "outputs": [],
   "source": [
    "# Plot rate of survival by Parch\n",
    "ax = titanic_df.groupby('Parch').Survived.mean().plot(kind='bar', title='Rate of Survival\\nFamily Relationship\\nParents/Children')\n",
    "ax.set(xlabel='Family Relationship\\nParents/Children', ylabel='Survival Probability')\n",
    "plt.show()"
   ]
  },
  {
   "cell_type": "markdown",
   "metadata": {},
   "source": [
    "We can see in the above box plot that there seems to be an advantage of those who traveled with a family as indicated by any integer above zero (zero indicates the traveler is traveling alone)."
   ]
  },
  {
   "cell_type": "markdown",
   "metadata": {},
   "source": [
    "### 4.e. Exploring the Data:  Survivalship by Family Relationships-Siblings/Spouse"
   ]
  },
  {
   "cell_type": "code",
   "execution_count": null,
   "metadata": {
    "collapsed": false,
    "scrolled": false
   },
   "outputs": [],
   "source": [
    "# Plot rate of survival by SibSp\n",
    "ax = titanic_df.groupby('SibSp').Survived.mean().plot(kind='bar', title='Rate of Survival\\nFamily Relationship\\nParents/Children')\n",
    "ax.set(xlabel='Family Relationship\\nSiblings/Spouse', ylabel='Survival Probability')\n",
    "plt.show()"
   ]
  },
  {
   "cell_type": "markdown",
   "metadata": {},
   "source": [
    "Like with the Parch category, we can see in the above box plot that there seems to be an advantage of those who traveled with a spouse or siblings as indicated by any integer above zero (zero indicates the traveler is traveling alone)."
   ]
  },
  {
   "cell_type": "markdown",
   "metadata": {},
   "source": [
    "### 3.f. Exploring the Data: Survivalship by Port of Embarkation"
   ]
  },
  {
   "cell_type": "code",
   "execution_count": null,
   "metadata": {
    "collapsed": false
   },
   "outputs": [],
   "source": [
    "# Plot rate of survival by Embarked\n",
    "ax = titanic_df.groupby('Embarked').Survived.mean().plot(kind='bar', title='Rate of Survival\\nPort of Embarkation')\n",
    "ax.set(xlabel='Port of Embarkation', ylabel='Survival Probability')\n",
    "plt.show()"
   ]
  },
  {
   "cell_type": "markdown",
   "metadata": {},
   "source": [
    "The above bar plot shows survivalship based on Port of Embarkation. Earlier we saw that a majority of passengers embkared from Southampton.  Those passengers originating from Southahmpton also had the least likely probability of survival.\n",
    "\n",
    "However, how much correlation is there with Port of Embarkation with survivalship? Or is it coincidence? Let's group this data with other passenger data:"
   ]
  },
  {
   "cell_type": "code",
   "execution_count": null,
   "metadata": {
    "collapsed": false
   },
   "outputs": [],
   "source": [
    "sns.factorplot(x=\"Pclass\", y=\"Survived\", hue=\"Embarked\", data=titanic_df, kind=\"bar\", ci=None)\n",
    "plt.xlabel('Passenger Class')\n",
    "plt.ylabel('Survival Probability')\n",
    "plt.show()"
   ]
  },
  {
   "cell_type": "code",
   "execution_count": null,
   "metadata": {
    "collapsed": false
   },
   "outputs": [],
   "source": [
    "sns.factorplot(x=\"Sex\", y=\"Survived\", hue=\"Embarked\", data=titanic_df, kind=\"bar\", ci=None)\n",
    "plt.xlabel('Sex')\n",
    "plt.ylabel('Survival Probability')\n",
    "plt.show()"
   ]
  },
  {
   "cell_type": "markdown",
   "metadata": {},
   "source": [
    "The above two bar charts show survial probabilities by grouping the Port of Embarkation data  with passenger class and sex, respectively. This shows that Port of Embarkation is not so much a distinctive basis of survival; as the data shows survivalship is still very much dependent upon passenger class, and sex. Females and 'higher' class passengers have a greater chance of survival regardless of Port of Embarkation."
   ]
  },
  {
   "cell_type": "markdown",
   "metadata": {},
   "source": [
    "### 3.g. Exploring the Data: Survivalship by Deck"
   ]
  },
  {
   "cell_type": "code",
   "execution_count": null,
   "metadata": {
    "collapsed": true
   },
   "outputs": [],
   "source": []
  },
  {
   "cell_type": "markdown",
   "metadata": {},
   "source": [
    "The above chart shows that.  "
   ]
  },
  {
   "cell_type": "markdown",
   "metadata": {},
   "source": [
    "### 4.g. Exploring the Data: Survivalship by Fare"
   ]
  },
  {
   "cell_type": "code",
   "execution_count": null,
   "metadata": {
    "collapsed": false
   },
   "outputs": [],
   "source": [
    "plt.hist([titanic_df[titanic_df['Survived']==1]['Fare'], titanic_df[titanic_df['Survived']==0]['Fare']], stacked=True,\n",
    "         bins = 5,label = ['Survived','Victim'])\n",
    "plt.xlabel('Fare Price (GBP)')\n",
    "plt.ylabel('Passengers')\n",
    "plt.legend()\n",
    "plt.show()"
   ]
  },
  {
   "cell_type": "markdown",
   "metadata": {},
   "source": [
    "Although it is difficult to see; the above histogram shows  that those who paid a higher fare had a higher probability of survival. That is no surprise; as fare price directly relates with passenger class."
   ]
  },
  {
   "cell_type": "code",
   "execution_count": null,
   "metadata": {
    "collapsed": true
   },
   "outputs": [],
   "source": []
  },
  {
   "cell_type": "code",
   "execution_count": null,
   "metadata": {
    "collapsed": true
   },
   "outputs": [],
   "source": []
  },
  {
   "cell_type": "code",
   "execution_count": null,
   "metadata": {
    "collapsed": true
   },
   "outputs": [],
   "source": []
  },
  {
   "cell_type": "code",
   "execution_count": null,
   "metadata": {
    "collapsed": true
   },
   "outputs": [],
   "source": []
  },
  {
   "cell_type": "markdown",
   "metadata": {},
   "source": [
    "###  Hypthesis"
   ]
  },
  {
   "cell_type": "markdown",
   "metadata": {},
   "source": [
    "It appears that the greatest chance of surviving the titanic  is dependent upon two main factors; sex and passenger class _(Pclass)_. Age also shows it could be a factor in survivalship, but only when age is simply child vs. adult. Also, as we saw far above in the .info function, not all passengers in the dataset have an Age. It would be quite convoluted and suspcious to make concrete  analysis based on a passenger property that is not complete. \n",
    "\n",
    "_Thus, it's good to be female or it's good to be rich. But  it's even better to be rich **and** female._"
   ]
  },
  {
   "cell_type": "markdown",
   "metadata": {},
   "source": [
    "##  Data Analysis"
   ]
  },
  {
   "cell_type": "markdown",
   "metadata": {},
   "source": [
    "In this section, the data will be more formally analyzed and the hyptheses will be tested. For much of this section, the data will be 'masked' to select values from the Titanic DataFrame. Think of a 'mask' more like SQL _select_ statements instead of normal Python conditional statements.Thus, when the data is masked, all the data can be viewed. This allows us to browse the data if we want. Importantly, this also allows a working variable to be created that we can call upon later. It's possible to put the mask inside the computations, but it's a little harder to read and we miss the opportunity to have a clean and simple variable to call on later. This is especially important if the scope of the study is not yet known, or if it is known the scope of the project will increase after the initial findings.\n",
    "\n",
    "**NOTE:** As we saw above, the dataset is not complete. It is merely a sample set of the population of known Titanic data. Thus, any mention of concrete numbers like _total survived/died_ shall be avoided. Instead, results of the analysis will be presented in dimensionless numbers; i.e. percentage. Total data is computed in order to find percentages, but they are not printed. However, if a complete dataset is provided, a user could display these figures with little work."
   ]
  },
  {
   "cell_type": "markdown",
   "metadata": {},
   "source": [
    "### Masking Data"
   ]
  },
  {
   "cell_type": "code",
   "execution_count": null,
   "metadata": {
    "collapsed": false,
    "scrolled": true
   },
   "outputs": [],
   "source": [
    "# Masking total survivors\n",
    "# Below is an example of a mask\n",
    "titanic_df[(titanic_df['Survived'] == 1) & (titanic_df['Sex'] == 'male') &\n",
    "           (titanic_df['Age'] > 50) & (titanic_df['Pclass'] == 1)]"
   ]
  },
  {
   "cell_type": "markdown",
   "metadata": {},
   "source": [
    "Above is an example of a 'mask'. Note that the Titanic DataFrame has isolated all first class passenger males over the age of 50 who survived. "
   ]
  },
  {
   "cell_type": "code",
   "execution_count": null,
   "metadata": {
    "collapsed": false
   },
   "outputs": [],
   "source": [
    "# Creating variables based on total survivorship\n",
    "num_survive = len(titanic_df[titanic_df['Survived'] == 1])\n",
    "num_victim = len(titanic_df[titanic_df['Survived'] == 0])\n",
    "num_passengers = num_survive + num_victim\n",
    "percent_survive = (float(num_survive) / float(num_passengers) * 100)\n",
    "percent_victim = (float(num_victim) / float(num_passengers) * 100)\n",
    "# Print total survivorship stats\n",
    "print \"The total number of passengers is:\", num_passengers\n",
    "print \"The number of victims is:\", num_victim\n",
    "print \"The number of survivors is:\", num_survive\n",
    "print \"The percentage of total victims is:\", percent_victim\n",
    "print \"The percentage of total survivors is:\", percent_survive"
   ]
  },
  {
   "cell_type": "code",
   "execution_count": null,
   "metadata": {
    "collapsed": false
   },
   "outputs": [],
   "source": [
    "# Creating variables based on total male survivorship\n",
    "num_male_victim = len(titanic_df[(titanic_df['Survived'] == 0) & (titanic_df['Sex'] == 'male')])\n",
    "num_male_survive = len(titanic_df[(titanic_df['Survived'] == 1) & (titanic_df['Sex'] == 'male')])\n",
    "num_males = len(titanic_df[titanic_df['Sex'] == 'male'])\n",
    "percent_male_victim = (float(num_male_victim) / float(num_males)) * 100\n",
    "percent_male_survive = (float(num_male_survive) / float(num_males)) * 100\n",
    "# Printing the total male survivorship stats\n",
    "print \"The total number of males is:\", num_males\n",
    "print \"The number of male victims is:\", num_male_victim\n",
    "print \"The number of male survivors is:\", num_male_survive\n",
    "print \"The percentage of male victims is:\", percent_male_victim\n",
    "print \"The percentage of male survivors is:\", percent_male_survive"
   ]
  },
  {
   "cell_type": "code",
   "execution_count": null,
   "metadata": {
    "collapsed": false
   },
   "outputs": [],
   "source": [
    "# Creating variables based on total female survivorship\n",
    "num_female_victim = len(titanic_df[(titanic_df['Survived'] == 0) & (titanic_df['Sex'] == 'female')])\n",
    "num_female_survive = len(titanic_df[(titanic_df['Survived'] == 1) & (titanic_df['Sex'] == 'female')])\n",
    "num_females = len(titanic_df[titanic_df['Sex'] == 'female'])\n",
    "percent_female_victim = (float(num_female_victim) / float(num_females)) * 100\n",
    "percent_female_survive = (float(num_female_survive) / float(num_females)) * 100\n",
    "# Printing the total male survivorship stats\n",
    "print \"The total number of females is:\", num_females\n",
    "print \"The number of female victims is:\", num_female_victim\n",
    "print \"The number of female survivors is:\", num_female_survive\n",
    "print \"The percentage of female victims is:\", percent_female_victim\n",
    "print \"The percentage of female survivors is:\", percent_female_survive"
   ]
  },
  {
   "cell_type": "code",
   "execution_count": null,
   "metadata": {
    "collapsed": false
   },
   "outputs": [],
   "source": [
    "# Creating variables based on first class passengers\n",
    "num_pclass1_survive = len(titanic_df[(titanic_df['Survived'] == 1) & (titanic_df['Pclass'] == 1)])\n",
    "num_pclass1_victim = len(titanic_df[(titanic_df['Survived'] == 0) & (titanic_df['Pclass'] == 1)])\n",
    "num_pclass1 = len(titanic_df[titanic_df['Pclass'] == 1])\n",
    "percent_pclass1_victim = (float(num_pclass1_victim) / float(num_pclass1)) * 100\n",
    "percent_pclass1_survive = (float(num_pclass1_survive) / float(num_pclass1)) * 100\n",
    "# Printing the total first class survivorship stats\n",
    "print \"The total number of first class passengers is:\", num_pclass1\n",
    "print \"The number of first class victims is:\", num_pclass1_victim\n",
    "print \"The number of first class survivors is:\", num_pclass1_survive\n",
    "print \"The percentage of first class victims is:\", percent_pclass1_victim\n",
    "print \"The percentage of first class survivors is:\", percent_pclass1_survive"
   ]
  },
  {
   "cell_type": "code",
   "execution_count": null,
   "metadata": {
    "collapsed": false
   },
   "outputs": [],
   "source": [
    "# Creating variables based on male first class passengers\n",
    "num_pclass1_male_survive = len(titanic_df[(titanic_df['Survived'] == 1) &\n",
    "                                          (titanic_df['Pclass'] == 1) & (titanic_df['Sex'] == 'male')])\n",
    "num_pclass1_male_victim = len(titanic_df[(titanic_df['Survived'] == 0) &\n",
    "                                         (titanic_df['Pclass'] == 1) & (titanic_df['Sex'] == 'male')])\n",
    "num_pclass1_males = len(titanic_df[(titanic_df['Pclass'] == 1 & (titanic_df['Sex'] == 'male'))])\n",
    "percent_pclass1_male_victim = (float(num_pclass1_male_victim) / float(num_pclass1_males)) * 100\n",
    "percent_pclass1_male_survive = (float(num_pclass1_male_survive) / float(num_pclass1_males)) * 100\n",
    "# Print male first class survivorship stats\n",
    "print \"The total number of first class male passengers is:\", num_pclass1_males\n",
    "print \"The number of first class male victims is:\", num_pclass1_male_victim\n",
    "print \"The number of first class survivors is:\", num_pclass1_male_survive\n",
    "print \"The percentage of first class male victims is:\", percent_pclass1_male_victim\n",
    "print \"The percentage of first class male survivors is:\", percent_pclass1_male_survive"
   ]
  },
  {
   "cell_type": "code",
   "execution_count": null,
   "metadata": {
    "collapsed": false
   },
   "outputs": [],
   "source": [
    "# Creating variables based on female first class passengers\n",
    "num_pclass1_female_survive = len(titanic_df[(titanic_df['Survived'] == 1) &\n",
    "                                            (titanic_df['Pclass'] == 1) & (titanic_df['Sex'] == 'female')])\n",
    "num_pclass1_female_victim = len(titanic_df[(titanic_df['Survived'] == 0) &\n",
    "                                           (titanic_df['Pclass'] == 1) & (titanic_df['Sex'] == 'female')])\n",
    "num_pclass1_females = len(titanic_df[(titanic_df['Pclass'] == 1 & (titanic_df['Sex'] == 'female'))])\n",
    "percent_pclass1_female_victim = (float(num_pclass1_female_victim) / float(num_pclass1_females)) * 100\n",
    "percent_pclass1_female_survive = (float(num_pclass1_female_survive) / float(num_pclass1_females)) * 100\n",
    "# Print female first class survivorship stats\n",
    "print \"The total number of first class female passengers is:\", num_pclass1_females\n",
    "print \"The number of first class female victims is:\", num_pclass1_female_victim\n",
    "print \"The number of first class female survivors is:\", num_pclass1_female_survive\n",
    "print \"The percentage of first class female victims is:\", percent_pclass1_female_victim\n",
    "print \"The percentage of first class female survivors is:\", percent_pclass1_female_survive"
   ]
  },
  {
   "cell_type": "code",
   "execution_count": null,
   "metadata": {
    "collapsed": false
   },
   "outputs": [],
   "source": [
    "# Creating variables based on second class passengers\n",
    "num_pclass2_survive = len(titanic_df[(titanic_df['Survived'] == 1) & (titanic_df['Pclass'] == 2)])\n",
    "num_pclass2_victim = len(titanic_df[(titanic_df['Survived'] == 0) & (titanic_df['Pclass'] == 2)])\n",
    "num_pclass2 = len(titanic_df[titanic_df['Pclass'] == 2])\n",
    "percent_pclass2_victim = (float(num_pclass2_victim) / float(num_pclass2)) * 100\n",
    "percent_pclass2_survive = (float(num_pclass2_survive) / float(num_pclass2)) * 100\n",
    "# Print second class survivorship stats\n",
    "print \"The total number of second class passengers is:\", num_pclass2\n",
    "print \"The number of second class victims is:\", num_pclass2_victim\n",
    "print \"The number of second class survivors is:\", num_pclass2_survive\n",
    "print \"The percentage of second class victims is:\", percent_pclass2_victim\n",
    "print \"The percentage of second class survivors is:\", percent_pclass2_survive"
   ]
  },
  {
   "cell_type": "code",
   "execution_count": null,
   "metadata": {
    "collapsed": false
   },
   "outputs": [],
   "source": [
    "# Creating variables based on male second class passengers\n",
    "num_pclass2_male_survive = len(titanic_df[(titanic_df['Survived'] == 1) &\n",
    "                                          (titanic_df['Pclass'] == 2) & (titanic_df['Sex'] == 'male')])\n",
    "num_pclass2_male_victim = len(titanic_df[(titanic_df['Survived'] == 0) &\n",
    "                                         (titanic_df['Pclass'] == 2) & (titanic_df['Sex'] == 'male')])\n",
    "num_pclass2_males = len(titanic_df[(titanic_df['Pclass'] == 2) & (titanic_df['Sex'] == 'male')])\n",
    "percent_pclass2_male_victim = (float(num_pclass2_male_victim) / float(num_pclass2_males)) * 100\n",
    "percent_pclass2_male_survive = (float(num_pclass2_male_survive) / float(num_pclass2_males)) * 100\n",
    "# Print male second class survivorship stats\n",
    "print \"The total number of second class male passengers is:\", num_pclass2_males\n",
    "print \"The number of second class male victims is:\", num_pclass2_male_victim\n",
    "print \"The number of second class survivors is:\", num_pclass2_male_survive\n",
    "print \"The percentage of second class male victims is:\", percent_pclass2_male_victim\n",
    "print \"The percentage of second class male survivors is:\", percent_pclass2_male_survive"
   ]
  },
  {
   "cell_type": "code",
   "execution_count": null,
   "metadata": {
    "collapsed": false
   },
   "outputs": [],
   "source": [
    "# Creating variables based on female second class passengers\n",
    "num_pclass2_female_survive = len(titanic_df[(titanic_df['Survived'] == 1) &\n",
    "                                            (titanic_df['Pclass'] == 2) & (titanic_df['Sex'] == 'female')])\n",
    "num_pclass2_female_victim = len(titanic_df[(titanic_df['Survived'] == 0) &\n",
    "                                           (titanic_df['Pclass'] == 2) & (titanic_df['Sex'] == 'female')])\n",
    "num_pclass2_females = len(titanic_df[(titanic_df['Pclass'] == 2) & (titanic_df['Sex'] == 'female')])\n",
    "percent_pclass2_female_victim = (float(num_pclass2_female_victim) / float(num_pclass2_females)) * 100\n",
    "percent_pclass2_female_survive = (float(num_pclass2_female_survive) / float(num_pclass2_females)) * 100\n",
    "# Print female first class survivorship stats\n",
    "print \"The total number of second class female passengers is:\", num_pclass2_females\n",
    "print \"The number of second class female victims is:\", num_pclass2_female_victim\n",
    "print \"The number of second class female survivors is:\", num_pclass2_female_survive\n",
    "print \"The percentage of second class female victims is:\", percent_pclass2_female_victim\n",
    "print \"The percentage of second class female survivors is:\", percent_pclass2_female_survive"
   ]
  },
  {
   "cell_type": "code",
   "execution_count": null,
   "metadata": {
    "collapsed": false
   },
   "outputs": [],
   "source": [
    "# Creating cariables based on third class passengers\n",
    "num_pclass3_survive = len(titanic_df[(titanic_df['Survived'] == 1) & (titanic_df['Pclass'] == 3)])\n",
    "num_pclass3_victim = len(titanic_df[(titanic_df['Survived'] == 0) & (titanic_df['Pclass'] == 3)])\n",
    "num_pclass3 = len(titanic_df[titanic_df['Pclass'] == 3])\n",
    "percent_pclass3_victim = (float(num_pclass3_victim) / float(num_pclass3)) * 100\n",
    "percent_pclass3_survive = (float(num_pclass3_survive) / float(num_pclass3)) * 100\n",
    "# Print second class survivorship stats\n",
    "print \"The total number of third class passengers is:\", num_pclass3\n",
    "print \"The number of third class victims is:\", num_pclass3_victim\n",
    "print \"The number of third class survivors is:\", num_pclass3_survive\n",
    "print \"The percentage of third class victims is:\", percent_pclass3_victim\n",
    "print \"The percentage of third class survivors is:\", percent_pclass3_survive"
   ]
  },
  {
   "cell_type": "code",
   "execution_count": null,
   "metadata": {
    "collapsed": false
   },
   "outputs": [],
   "source": [
    "# Creating variables based on male third class passengers\n",
    "num_pclass3_male_survive = len(titanic_df[(titanic_df['Survived'] == 1) &\n",
    "                                          (titanic_df['Pclass'] == 3) & (titanic_df['Sex'] == 'male')])\n",
    "num_pclass3_male_victim = len(titanic_df[(titanic_df['Survived'] == 0) &\n",
    "                                         (titanic_df['Pclass'] == 3) & (titanic_df['Sex'] == 'male')])\n",
    "num_pclass3_males = len(titanic_df[(titanic_df['Pclass'] == 3) & (titanic_df['Sex'] == 'male')])\n",
    "percent_pclass3_male_victim = (float(num_pclass3_male_victim) / float(num_pclass3_males)) * 100\n",
    "percent_pclass3_male_survive = (float(num_pclass3_male_survive) / float(num_pclass3_males)) * 100\n",
    "# Print male second class survivorship stats\n",
    "print \"The total number of third class male passengers is:\", num_pclass3_males\n",
    "print \"The number of third class male victims is:\", num_pclass3_male_victim\n",
    "print \"The number of third class survivors is:\", num_pclass3_male_survive\n",
    "print \"The percentage of third class male victims is:\", percent_pclass3_male_victim\n",
    "print \"The percentage of third class male survivors is:\", percent_pclass3_male_survive"
   ]
  },
  {
   "cell_type": "code",
   "execution_count": null,
   "metadata": {
    "collapsed": false
   },
   "outputs": [],
   "source": [
    "# Creating variables based on female third class passengers\n",
    "num_pclass3_female_survive = len(titanic_df[(titanic_df['Survived'] == 1) &\n",
    "                                            (titanic_df['Pclass'] == 3) & (titanic_df['Sex'] == 'female')])\n",
    "num_pclass3_female_victim = len(titanic_df[(titanic_df['Survived'] == 0) &\n",
    "                                           (titanic_df['Pclass'] == 3) & (titanic_df['Sex'] == 'female')])\n",
    "num_pclass3_females = len(titanic_df[(titanic_df['Pclass'] == 3) & (titanic_df['Sex'] == 'female')])\n",
    "percent_pclass3_female_victim = (float(num_pclass3_female_victim) / float(num_pclass3_females)) * 100\n",
    "percent_pclass3_female_survive = (float(num_pclass3_female_survive) / float(num_pclass3_females)) * 100\n",
    "# Print female first class survivorship stats\n",
    "print \"The total number of third class female passengers is:\", num_pclass3_females\n",
    "print \"The number of third class female victims is:\", num_pclass3_female_victim\n",
    "print \"The number of third class female survivors is:\", num_pclass3_female_survive\n",
    "print \"The percentage of third class female victims is:\", percent_pclass3_female_victim\n",
    "print \"The percentage of third class female survivors is:\", percent_pclass3_female_survive"
   ]
  },
  {
   "cell_type": "markdown",
   "metadata": {},
   "source": [
    "## Visualzing the Findings"
   ]
  },
  {
   "cell_type": "markdown",
   "metadata": {},
   "source": [
    "### Total Survivalship"
   ]
  },
  {
   "cell_type": "code",
   "execution_count": null,
   "metadata": {
    "collapsed": true
   },
   "outputs": [],
   "source": [
    "# Function to place values on each pie slice\n",
    "def make_autopct(values):\n",
    "    def my_autopct(pct):\n",
    "        total = sum(values)\n",
    "        val = int(round(pct*total/100.0)+0.5)\n",
    "        return '{p:.2f}%'.format(p=pct,v=val)\n",
    "    return my_autopct"
   ]
  },
  {
   "cell_type": "code",
   "execution_count": null,
   "metadata": {
    "collapsed": false
   },
   "outputs": [],
   "source": [
    "# Plot total survivorship\n",
    "\n",
    "# Data\n",
    "labels = 'Victims', 'Survivors'\n",
    "sizes = [num_victim, num_survive]\n",
    "colors = ['grey', 'green']\n",
    "\n",
    "# Plot\n",
    "title('Total Survivorship \\n All  Passenger Classes \\n Both Sexes')\n",
    "plt.pie(sizes, labels=labels, colors=colors, autopct=make_autopct(sizes), startangle=90)\n",
    "plt.axis('equal')\n",
    "plt.show()"
   ]
  },
  {
   "cell_type": "code",
   "execution_count": null,
   "metadata": {
    "collapsed": false,
    "scrolled": false
   },
   "outputs": [],
   "source": [
    "# Plot total male survivorship\n",
    "\n",
    "# Data\n",
    "labels = 'Victims', 'Survivors'\n",
    "sizes = [num_male_victim, num_male_survive]\n",
    "colors = ['grey', 'blue']\n",
    "\n",
    "# Plot\n",
    "title('Male Survivorship \\n All  Passenger Classes')\n",
    "plt.pie(sizes, labels=labels, colors=colors, autopct=make_autopct(sizes), startangle=90)\n",
    "plt.axis('equal')\n",
    "plt.show()"
   ]
  },
  {
   "cell_type": "code",
   "execution_count": null,
   "metadata": {
    "collapsed": false
   },
   "outputs": [],
   "source": [
    "# Plot total female survivorship\n",
    "\n",
    "# Data\n",
    "labels = 'Victims', 'Survivors'\n",
    "sizes = [num_female_victim, num_female_survive]\n",
    "colors = ['grey', 'red']\n",
    "\n",
    "# Plot\n",
    "title('Female Survivorship \\n All  Passenger Classes')\n",
    "plt.pie(sizes, labels=labels, colors=colors, autopct=make_autopct(sizes), startangle=90)\n",
    "plt.axis('equal')\n",
    "plt.show()"
   ]
  },
  {
   "cell_type": "markdown",
   "metadata": {
    "collapsed": true
   },
   "source": [
    "### First Class Passenger Survivalship"
   ]
  },
  {
   "cell_type": "code",
   "execution_count": null,
   "metadata": {
    "collapsed": false
   },
   "outputs": [],
   "source": [
    "# Plot total first class survivorship\n",
    "\n",
    "# Data\n",
    "labels = 'Victims', 'Survivors'\n",
    "sizes = [num_pclass1_victim, num_pclass1_survive]\n",
    "colors = ['grey', 'green']\n",
    "\n",
    "# Plot\n",
    "title('First Class Survivorship')\n",
    "plt.pie(sizes, labels=labels, colors=colors, autopct=make_autopct(sizes), startangle=90)\n",
    "plt.axis('equal')\n",
    "plt.show()"
   ]
  },
  {
   "cell_type": "code",
   "execution_count": null,
   "metadata": {
    "collapsed": false
   },
   "outputs": [],
   "source": [
    "# Plot first class male survivorship\n",
    "\n",
    "# Data\n",
    "labels = 'Victims', 'Survivors'\n",
    "sizes = [num_pclass1_male_victim, num_pclass1_male_survive]\n",
    "colors = ['grey', 'blue']\n",
    "\n",
    "# Plot\n",
    "title('Male Survivorship \\n First Class')\n",
    "plt.pie(sizes, labels=labels, colors=colors, autopct=make_autopct(sizes), startangle=90)\n",
    "plt.axis('equal')\n",
    "plt.show()"
   ]
  },
  {
   "cell_type": "code",
   "execution_count": null,
   "metadata": {
    "collapsed": false
   },
   "outputs": [],
   "source": [
    "# Plot first class female survivorship\n",
    "\n",
    "# Data\n",
    "labels = 'Victims', 'Survivors'\n",
    "sizes = [num_pclass1_female_victim, num_pclass1_female_survive]\n",
    "colors = ['grey', 'red']\n",
    "\n",
    "# Plot\n",
    "title('Female Survivorship \\n First Class')\n",
    "plt.pie(sizes, labels=labels, colors=colors, autopct=make_autopct(sizes), startangle=180)\n",
    "plt.axis('equal')\n",
    "plt.show()"
   ]
  },
  {
   "cell_type": "markdown",
   "metadata": {},
   "source": [
    "### Second Class Passenger Survivalship"
   ]
  },
  {
   "cell_type": "code",
   "execution_count": null,
   "metadata": {
    "collapsed": false
   },
   "outputs": [],
   "source": [
    "# Plot total second class survivorship\n",
    "\n",
    "# Data\n",
    "labels = 'Victims', 'Survivors'\n",
    "sizes = [num_pclass2_victim, num_pclass2_survive]\n",
    "colors = ['grey', 'green']\n",
    "\n",
    "# Plot\n",
    "title('Second Class Survivorship')\n",
    "plt.pie(sizes, labels=labels, colors=colors, autopct=make_autopct(sizes), startangle=90)\n",
    "plt.axis('equal')\n",
    "plt.show()"
   ]
  },
  {
   "cell_type": "code",
   "execution_count": null,
   "metadata": {
    "collapsed": false
   },
   "outputs": [],
   "source": [
    "# Plot second class male survivorship\n",
    "\n",
    "# Data\n",
    "labels = 'Victims', 'Survivors'\n",
    "sizes = [num_pclass2_male_victim, num_pclass2_male_survive]\n",
    "colors = ['grey', 'blue']\n",
    "\n",
    "# Plot\n",
    "title('Male Survivorship \\n Second Class')\n",
    "plt.pie(sizes, labels=labels, colors=colors, autopct=make_autopct(sizes), startangle=90)\n",
    "plt.axis('equal')\n",
    "plt.show()"
   ]
  },
  {
   "cell_type": "code",
   "execution_count": null,
   "metadata": {
    "collapsed": false
   },
   "outputs": [],
   "source": [
    "# Plot second class female survivorship\n",
    "\n",
    "# Data\n",
    "labels = 'Victims', 'Survivors'\n",
    "sizes = [num_pclass2_female_victim, num_pclass2_female_survive]\n",
    "colors = ['grey', 'red']\n",
    "\n",
    "# Plot\n",
    "title('Female Survivorship \\n Second Class')\n",
    "plt.pie(sizes, labels=labels, colors=colors, autopct=make_autopct(sizes), startangle=180)\n",
    "plt.axis('equal')\n",
    "plt.show()"
   ]
  },
  {
   "cell_type": "markdown",
   "metadata": {},
   "source": [
    "### Third Class Passenger Survivalship"
   ]
  },
  {
   "cell_type": "code",
   "execution_count": null,
   "metadata": {
    "collapsed": false
   },
   "outputs": [],
   "source": [
    "# Plot third third class survivorship\n",
    "\n",
    "# Data\n",
    "labels = 'Victims', 'Survivors'\n",
    "sizes = [num_pclass3_victim, num_pclass3_survive]\n",
    "colors = ['grey', 'green']\n",
    "\n",
    "# Plot\n",
    "title('Third Class Survivorship')\n",
    "plt.pie(sizes, labels=labels, colors=colors, autopct=make_autopct(sizes), startangle=90)\n",
    "plt.axis('equal')\n",
    "plt.show()"
   ]
  },
  {
   "cell_type": "code",
   "execution_count": null,
   "metadata": {
    "collapsed": false
   },
   "outputs": [],
   "source": [
    "# Plot third class male survivorship\n",
    "\n",
    "# Data\n",
    "labels = 'Victims', 'Survivors'\n",
    "sizes = [num_pclass3_male_victim, num_pclass3_male_survive]\n",
    "colors = ['grey', 'blue']\n",
    "\n",
    "# Plot\n",
    "title('Male Survivorship \\n Third Class')\n",
    "plt.pie(sizes, labels=labels, colors=colors, autopct=make_autopct(sizes), startangle=90)\n",
    "plt.axis('equal')\n",
    "plt.show()"
   ]
  },
  {
   "cell_type": "code",
   "execution_count": null,
   "metadata": {
    "collapsed": false
   },
   "outputs": [],
   "source": [
    "# Plot third class female survivorship\n",
    "\n",
    "# Data\n",
    "labels = 'Victims', 'Survivors'\n",
    "sizes = [num_pclass3_female_victim, num_pclass3_female_survive]\n",
    "colors = ['grey', 'red']\n",
    "\n",
    "# Plot\n",
    "title('Female Survivorship \\n Third Class')\n",
    "plt.pie(sizes, labels=labels, colors=colors, autopct=make_autopct(sizes), startangle=90)\n",
    "plt.axis('equal')\n",
    "plt.show()"
   ]
  },
  {
   "cell_type": "markdown",
   "metadata": {},
   "source": [
    "## Conclusions"
   ]
  },
  {
   "cell_type": "markdown",
   "metadata": {},
   "source": [
    "The above data shows that chances of survival increases as the passenger class (fare) increases. Also within each class, females have a much higher chance of survival than males. "
   ]
  },
  {
   "cell_type": "markdown",
   "metadata": {},
   "source": [
    "## Your Personalized Survival Chances"
   ]
  },
  {
   "cell_type": "markdown",
   "metadata": {},
   "source": [
    "This will need to change to take a persons sex, age (convert to MWC), income level (for PClass)"
   ]
  },
  {
   "cell_type": "code",
   "execution_count": null,
   "metadata": {
    "collapsed": true
   },
   "outputs": [],
   "source": [
    "# Build a function that passes user's sex and 'passenger class',\n",
    "# takes those arguments are computes based on the stats found in the code\n",
    "# and returns a 'chance of survival'."
   ]
  },
  {
   "cell_type": "code",
   "execution_count": null,
   "metadata": {
    "collapsed": false
   },
   "outputs": [],
   "source": [
    "def personalized_survival_chances(pclass, sex):\n",
    "    if pclass == 1:\n",
    "        if sex == 'male':\n",
    "            return 'Your chance of surviving the Titanic disaster is:', percent_pclass1_male_survive\n",
    "        else:\n",
    "            return 'Your chance of surviving the Titanic disaster is:', percent_pclass1_female_survive\n",
    "    elif pclass == 2:\n",
    "        if sex == 'male':\n",
    "            return 'Your chance of surviving the Titanic disaster is:', percent_pclass2_male_survive\n",
    "        else:\n",
    "            return 'Your chance of surviving the Titanic disaster is:', percent_pclass2_female_survive\n",
    "    else:\n",
    "        if sex == 'male':\n",
    "            return 'Your chance of surviving the Titanic disaster is:', percent_pclass3_male_survive\n",
    "        else:\n",
    "            return 'Your chance of surviving the Titanic disaster is:', percent_pclass3_female_survive"
   ]
  },
  {
   "cell_type": "markdown",
   "metadata": {},
   "source": [
    "The above function will pass the sex of a user and the passenger class ticket they would have purchased and reutrns their chance of survival."
   ]
  },
  {
   "cell_type": "code",
   "execution_count": null,
   "metadata": {
    "collapsed": false
   },
   "outputs": [],
   "source": [
    "# Test function\n",
    "print personalized_survival_chances(1, 'male')\n",
    "print personalized_survival_chances(1, 'female')\n",
    "print personalized_survival_chances(2, 'male')\n",
    "print personalized_survival_chances(2, 'female')\n",
    "print personalized_survival_chances(3, 'male')\n",
    "print personalized_survival_chances(3, 'female')"
   ]
  },
  {
   "cell_type": "markdown",
   "metadata": {},
   "source": [
    "## Sources"
   ]
  },
  {
   "cell_type": "markdown",
   "metadata": {
    "collapsed": true
   },
   "source": [
    "https://matplotlib.org/1.5.3/index.html"
   ]
  },
  {
   "cell_type": "markdown",
   "metadata": {},
   "source": [
    "https://pandas.pydata.org/pandas-docs/stable/"
   ]
  },
  {
   "cell_type": "markdown",
   "metadata": {},
   "source": [
    "https://github.com/jp-wright/dating_data"
   ]
  },
  {
   "cell_type": "markdown",
   "metadata": {},
   "source": [
    "https://github.com/zipfian/python-fundamentals"
   ]
  },
  {
   "cell_type": "markdown",
   "metadata": {},
   "source": [
    "https://en.wikipedia.org/wiki/RMS_Titanic"
   ]
  },
  {
   "cell_type": "markdown",
   "metadata": {},
   "source": [
    "https://matplotlib.org/users/legend_guide.html"
   ]
  },
  {
   "cell_type": "markdown",
   "metadata": {},
   "source": [
    "https://seaborn.pydata.org/generated/seaborn.countplot.html"
   ]
  },
  {
   "cell_type": "markdown",
   "metadata": {},
   "source": [
    "http://pbpython.com/simple-graphing-pandas.html"
   ]
  },
  {
   "cell_type": "markdown",
   "metadata": {},
   "source": [
    "http://www.r-graph-gallery.com/portfolio/boxplot/"
   ]
  },
  {
   "cell_type": "markdown",
   "metadata": {
    "collapsed": true
   },
   "source": [
    "## Skratch Work"
   ]
  },
  {
   "cell_type": "markdown",
   "metadata": {},
   "source": [
    "Dealing with missing age data.\n",
    "Earlier, when a .info() was run on the dataset. It brought attention that the 'Age' column is missing 117 entries. It would be beneficial to somehow find a method to populate the age of the passengers with missing data. There are a number of possible ways to do this:\n",
    "1. Use other data in the dataset to predict the age of the passenger\n",
    "2. "
   ]
  },
  {
   "cell_type": "code",
   "execution_count": null,
   "metadata": {
    "collapsed": false,
    "scrolled": true
   },
   "outputs": [],
   "source": [
    "titanic_df.sort_values('Age')"
   ]
  },
  {
   "cell_type": "code",
   "execution_count": null,
   "metadata": {
    "collapsed": false
   },
   "outputs": [],
   "source": [
    "sns.factorplot(x=\"Pclass\", y=\"Survived\", hue=\"Sex\", data=titanic_df, kind=\"bar\", ci=None)"
   ]
  },
  {
   "cell_type": "code",
   "execution_count": null,
   "metadata": {
    "collapsed": false
   },
   "outputs": [],
   "source": [
    "sns.factorplot(x=\"Pclass\", y=\"Survived\", data=titanic_df, kind=\"bar\", ci=None)"
   ]
  },
  {
   "cell_type": "code",
   "execution_count": null,
   "metadata": {
    "collapsed": false
   },
   "outputs": [],
   "source": [
    "sns.factorplot(x=\"Sex\", y=\"Survived\", data=titanic_df, kind=\"bar\", ci=None)"
   ]
  },
  {
   "cell_type": "code",
   "execution_count": null,
   "metadata": {
    "collapsed": false
   },
   "outputs": [],
   "source": [
    "sns.factorplot(x=\"Pclass\", y=\"Survived\", hue=\"Parch\", data=titanic_df, kind=\"bar\", ci=None)"
   ]
  },
  {
   "cell_type": "code",
   "execution_count": null,
   "metadata": {
    "collapsed": false
   },
   "outputs": [],
   "source": [
    "sns.factorplot(x=\"Parch\", y=\"Survived\", data=titanic_df, kind=\"bar\", ci=None)"
   ]
  },
  {
   "cell_type": "code",
   "execution_count": null,
   "metadata": {
    "collapsed": false
   },
   "outputs": [],
   "source": [
    "sns.factorplot(x=\"Pclass\", y=\"Survived\", hue=\"Sex\", data=titanic_df, kind=\"bar\", ci=None)"
   ]
  },
  {
   "cell_type": "code",
   "execution_count": null,
   "metadata": {
    "collapsed": false
   },
   "outputs": [],
   "source": [
    "plt.hist([titanic_df[titanic_df['Survived']==1]['Fare'], titanic_df[titanic_df['Survived']==0]['Fare']], stacked=True,\n",
    "         bins = 10,label = ['Survived','Victim'])\n",
    "plt.legend()\n",
    "plt.show()"
   ]
  },
  {
   "cell_type": "code",
   "execution_count": null,
   "metadata": {
    "collapsed": false
   },
   "outputs": [],
   "source": [
    "plt.hist([titanic_df[titanic_df['Survived']==1]['Fare'], titanic_df[titanic_df['Survived']==0]['Fare']], stacked=True,\n",
    "         bins = 5,label = ['Survived','Victim'])\n",
    "plt.legend()\n",
    "plt.show()"
   ]
  },
  {
   "cell_type": "code",
   "execution_count": null,
   "metadata": {
    "collapsed": false
   },
   "outputs": [],
   "source": [
    "sns.factorplot(x=\"Sex\", y=\"Survived\", hue=\"Embarked\", data=titanic_df, kind=\"bar\", ci=None)"
   ]
  },
  {
   "cell_type": "code",
   "execution_count": null,
   "metadata": {
    "collapsed": true
   },
   "outputs": [],
   "source": []
  }
 ],
 "metadata": {
  "anaconda-cloud": {},
  "kernelspec": {
   "display_name": "Python [conda env:DAND]",
   "language": "python",
   "name": "conda-env-DAND-py"
  },
  "language_info": {
   "codemirror_mode": {
    "name": "ipython",
    "version": 2
   },
   "file_extension": ".py",
   "mimetype": "text/x-python",
   "name": "python",
   "nbconvert_exporter": "python",
   "pygments_lexer": "ipython2",
   "version": "2.7.12"
  }
 },
 "nbformat": 4,
 "nbformat_minor": 2
}
